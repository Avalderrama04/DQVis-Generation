{
 "cells": [
  {
   "cell_type": "code",
   "execution_count": 199,
   "metadata": {},
   "outputs": [],
   "source": [
    "# /// script\n",
    "# requires-python = \">=3.11\"\n",
    "# dependencies = [\n",
    "#     \"importlib\",\n",
    "#     \"pandas\",\n",
    "#     \"udi-grammar-py\",``\n",
    "# ]\n",
    "# ///"
   ]
  },
  {
   "cell_type": "markdown",
   "metadata": {},
   "source": [
    "## Imports + Top-Level Variables"
   ]
  },
  {
   "cell_type": "code",
   "execution_count": 200,
   "metadata": {},
   "outputs": [],
   "source": [
    "from udi_grammar_py import Chart, Op, rolling\n",
    "import pandas as pd\n",
    "import sys\n",
    "import template_generation\n",
    "import schema_generation\n",
    "import template_expansion\n",
    "import paraphraser\n",
    "import convert_for_finetuning\n",
    "import importlib\n",
    "import json\n",
    "sys.path.append('.')\n",
    "\n",
    "UPLOAD_TO_HUGGINGFACE = False # Set to True if you want to upload the training data to Hugging Face\n",
    "PERFORM_PARAPHRASING = False # paraphrasing is time consuming, so skipping makes it easier to test the rest of the pipeline"
   ]
  },
  {
   "cell_type": "code",
   "execution_count": 201,
   "metadata": {},
   "outputs": [
    {
     "data": {
      "text/html": [
       "<div>\n",
       "<style scoped>\n",
       "    .dataframe tbody tr th:only-of-type {\n",
       "        vertical-align: middle;\n",
       "    }\n",
       "\n",
       "    .dataframe tbody tr th {\n",
       "        vertical-align: top;\n",
       "    }\n",
       "\n",
       "    .dataframe thead th {\n",
       "        text-align: right;\n",
       "    }\n",
       "</style>\n",
       "<table border=\"1\" class=\"dataframe\">\n",
       "  <thead>\n",
       "    <tr style=\"text-align: right;\">\n",
       "      <th></th>\n",
       "      <th>query_template</th>\n",
       "      <th>constraints</th>\n",
       "      <th>spec_template</th>\n",
       "      <th>query_type</th>\n",
       "      <th>creation_method</th>\n",
       "    </tr>\n",
       "  </thead>\n",
       "  <tbody>\n",
       "    <tr>\n",
       "      <th>0</th>\n",
       "      <td>How many &lt;E&gt; are there, grouped by &lt;F:n&gt;?</td>\n",
       "      <td>[F.c * 2 &lt; E.c, F.c &lt; 4]</td>\n",
       "      <td>{\"source\": {\"name\": \"&lt;E&gt;\", \"source\": \"&lt;E.url&gt;\"...</td>\n",
       "      <td>question</td>\n",
       "      <td>template</td>\n",
       "    </tr>\n",
       "  </tbody>\n",
       "</table>\n",
       "</div>"
      ],
      "text/plain": [
       "                              query_template               constraints  \\\n",
       "0  How many <E> are there, grouped by <F:n>?  [F.c * 2 < E.c, F.c < 4]   \n",
       "\n",
       "                                       spec_template query_type  \\\n",
       "0  {\"source\": {\"name\": \"<E>\", \"source\": \"<E.url>\"...   question   \n",
       "\n",
       "  creation_method  \n",
       "0        template  "
      ]
     },
     "execution_count": 201,
     "metadata": {},
     "output_type": "execute_result"
    }
   ],
   "source": [
    "importlib.reload(template_generation)\n",
    "df = template_generation.generate()\n",
    "template_question_count = df.shape[0]\n",
    "df.head()"
   ]
  },
  {
   "cell_type": "markdown",
   "metadata": {},
   "source": [
    "## update data schema based on files in ./datasets folder"
   ]
  },
  {
   "cell_type": "code",
   "execution_count": 202,
   "metadata": {},
   "outputs": [],
   "source": [
    "importlib.reload(schema_generation)\n",
    "schema_generation.main()"
   ]
  },
  {
   "cell_type": "markdown",
   "metadata": {},
   "source": [
    "## Contextualize the template training data by putting in real entity names and fields if they satisfy the constraints."
   ]
  },
  {
   "cell_type": "code",
   "execution_count": 203,
   "metadata": {},
   "outputs": [
    {
     "data": {
      "text/html": [
       "<div>\n",
       "<style scoped>\n",
       "    .dataframe tbody tr th:only-of-type {\n",
       "        vertical-align: middle;\n",
       "    }\n",
       "\n",
       "    .dataframe tbody tr th {\n",
       "        vertical-align: top;\n",
       "    }\n",
       "\n",
       "    .dataframe thead th {\n",
       "        text-align: right;\n",
       "    }\n",
       "</style>\n",
       "<table border=\"1\" class=\"dataframe\">\n",
       "  <thead>\n",
       "    <tr style=\"text-align: right;\">\n",
       "      <th></th>\n",
       "      <th>query_template</th>\n",
       "      <th>constraints</th>\n",
       "      <th>spec_template</th>\n",
       "      <th>query_type</th>\n",
       "      <th>creation_method</th>\n",
       "      <th>query_base</th>\n",
       "      <th>spec</th>\n",
       "      <th>solution</th>\n",
       "      <th>dataset_schema</th>\n",
       "    </tr>\n",
       "  </thead>\n",
       "  <tbody>\n",
       "    <tr>\n",
       "      <th>0</th>\n",
       "      <td>How many &lt;E&gt; are there, grouped by &lt;F:n&gt;?</td>\n",
       "      <td>[F.c * 2 &lt; E.c, F.c &lt; 4]</td>\n",
       "      <td>{\"source\": {\"name\": \"&lt;E&gt;\", \"source\": \"&lt;E.url&gt;\"...</td>\n",
       "      <td>question</td>\n",
       "      <td>template</td>\n",
       "      <td>How many donors are there, grouped by weight_u...</td>\n",
       "      <td>{\"source\": {\"name\": \"donors\", \"source\": \"./dat...</td>\n",
       "      <td>{'E': {'entity': 'donors', 'url': './data/hubm...</td>\n",
       "      <td>hubmap</td>\n",
       "    </tr>\n",
       "    <tr>\n",
       "      <th>0</th>\n",
       "      <td>How many &lt;E&gt; are there, grouped by &lt;F:n&gt;?</td>\n",
       "      <td>[F.c * 2 &lt; E.c, F.c &lt; 4]</td>\n",
       "      <td>{\"source\": {\"name\": \"&lt;E&gt;\", \"source\": \"&lt;E.url&gt;\"...</td>\n",
       "      <td>question</td>\n",
       "      <td>template</td>\n",
       "      <td>How many donors are there, grouped by sex?</td>\n",
       "      <td>{\"source\": {\"name\": \"donors\", \"source\": \"./dat...</td>\n",
       "      <td>{'E': {'entity': 'donors', 'url': './data/hubm...</td>\n",
       "      <td>hubmap</td>\n",
       "    </tr>\n",
       "    <tr>\n",
       "      <th>0</th>\n",
       "      <td>How many &lt;E&gt; are there, grouped by &lt;F:n&gt;?</td>\n",
       "      <td>[F.c * 2 &lt; E.c, F.c &lt; 4]</td>\n",
       "      <td>{\"source\": {\"name\": \"&lt;E&gt;\", \"source\": \"&lt;E.url&gt;\"...</td>\n",
       "      <td>question</td>\n",
       "      <td>template</td>\n",
       "      <td>How many donors are there, grouped by serum_cr...</td>\n",
       "      <td>{\"source\": {\"name\": \"donors\", \"source\": \"./dat...</td>\n",
       "      <td>{'E': {'entity': 'donors', 'url': './data/hubm...</td>\n",
       "      <td>hubmap</td>\n",
       "    </tr>\n",
       "    <tr>\n",
       "      <th>0</th>\n",
       "      <td>How many &lt;E&gt; are there, grouped by &lt;F:n&gt;?</td>\n",
       "      <td>[F.c * 2 &lt; E.c, F.c &lt; 4]</td>\n",
       "      <td>{\"source\": {\"name\": \"&lt;E&gt;\", \"source\": \"&lt;E.url&gt;\"...</td>\n",
       "      <td>question</td>\n",
       "      <td>template</td>\n",
       "      <td>How many donors are there, grouped by rh_blood...</td>\n",
       "      <td>{\"source\": {\"name\": \"donors\", \"source\": \"./dat...</td>\n",
       "      <td>{'E': {'entity': 'donors', 'url': './data/hubm...</td>\n",
       "      <td>hubmap</td>\n",
       "    </tr>\n",
       "    <tr>\n",
       "      <th>0</th>\n",
       "      <td>How many &lt;E&gt; are there, grouped by &lt;F:n&gt;?</td>\n",
       "      <td>[F.c * 2 &lt; E.c, F.c &lt; 4]</td>\n",
       "      <td>{\"source\": {\"name\": \"&lt;E&gt;\", \"source\": \"&lt;E.url&gt;\"...</td>\n",
       "      <td>question</td>\n",
       "      <td>template</td>\n",
       "      <td>How many donors are there, grouped by patholog...</td>\n",
       "      <td>{\"source\": {\"name\": \"donors\", \"source\": \"./dat...</td>\n",
       "      <td>{'E': {'entity': 'donors', 'url': './data/hubm...</td>\n",
       "      <td>hubmap</td>\n",
       "    </tr>\n",
       "  </tbody>\n",
       "</table>\n",
       "</div>"
      ],
      "text/plain": [
       "                              query_template               constraints  \\\n",
       "0  How many <E> are there, grouped by <F:n>?  [F.c * 2 < E.c, F.c < 4]   \n",
       "0  How many <E> are there, grouped by <F:n>?  [F.c * 2 < E.c, F.c < 4]   \n",
       "0  How many <E> are there, grouped by <F:n>?  [F.c * 2 < E.c, F.c < 4]   \n",
       "0  How many <E> are there, grouped by <F:n>?  [F.c * 2 < E.c, F.c < 4]   \n",
       "0  How many <E> are there, grouped by <F:n>?  [F.c * 2 < E.c, F.c < 4]   \n",
       "\n",
       "                                       spec_template query_type  \\\n",
       "0  {\"source\": {\"name\": \"<E>\", \"source\": \"<E.url>\"...   question   \n",
       "0  {\"source\": {\"name\": \"<E>\", \"source\": \"<E.url>\"...   question   \n",
       "0  {\"source\": {\"name\": \"<E>\", \"source\": \"<E.url>\"...   question   \n",
       "0  {\"source\": {\"name\": \"<E>\", \"source\": \"<E.url>\"...   question   \n",
       "0  {\"source\": {\"name\": \"<E>\", \"source\": \"<E.url>\"...   question   \n",
       "\n",
       "  creation_method                                         query_base  \\\n",
       "0        template  How many donors are there, grouped by weight_u...   \n",
       "0        template         How many donors are there, grouped by sex?   \n",
       "0        template  How many donors are there, grouped by serum_cr...   \n",
       "0        template  How many donors are there, grouped by rh_blood...   \n",
       "0        template  How many donors are there, grouped by patholog...   \n",
       "\n",
       "                                                spec  \\\n",
       "0  {\"source\": {\"name\": \"donors\", \"source\": \"./dat...   \n",
       "0  {\"source\": {\"name\": \"donors\", \"source\": \"./dat...   \n",
       "0  {\"source\": {\"name\": \"donors\", \"source\": \"./dat...   \n",
       "0  {\"source\": {\"name\": \"donors\", \"source\": \"./dat...   \n",
       "0  {\"source\": {\"name\": \"donors\", \"source\": \"./dat...   \n",
       "\n",
       "                                            solution dataset_schema  \n",
       "0  {'E': {'entity': 'donors', 'url': './data/hubm...         hubmap  \n",
       "0  {'E': {'entity': 'donors', 'url': './data/hubm...         hubmap  \n",
       "0  {'E': {'entity': 'donors', 'url': './data/hubm...         hubmap  \n",
       "0  {'E': {'entity': 'donors', 'url': './data/hubm...         hubmap  \n",
       "0  {'E': {'entity': 'donors', 'url': './data/hubm...         hubmap  "
      ]
     },
     "execution_count": 203,
     "metadata": {},
     "output_type": "execute_result"
    }
   ],
   "source": [
    "importlib.reload(template_expansion)\n",
    "with open('./datasets/schema.json') as f:\n",
    "    schema_list = json.load(f)\n",
    "    df = template_expansion.expand(df, schema_list)\n",
    "\n",
    "df.head()"
   ]
  },
  {
   "cell_type": "markdown",
   "metadata": {},
   "source": [
    "## The paraphraser will use LLM frameork to paraphrase the query_base into several options\n"
   ]
  },
  {
   "cell_type": "code",
   "execution_count": 204,
   "metadata": {},
   "outputs": [
    {
     "data": {
      "text/html": [
       "<div>\n",
       "<style scoped>\n",
       "    .dataframe tbody tr th:only-of-type {\n",
       "        vertical-align: middle;\n",
       "    }\n",
       "\n",
       "    .dataframe tbody tr th {\n",
       "        vertical-align: top;\n",
       "    }\n",
       "\n",
       "    .dataframe thead th {\n",
       "        text-align: right;\n",
       "    }\n",
       "</style>\n",
       "<table border=\"1\" class=\"dataframe\">\n",
       "  <thead>\n",
       "    <tr style=\"text-align: right;\">\n",
       "      <th></th>\n",
       "      <th>query_template</th>\n",
       "      <th>constraints</th>\n",
       "      <th>spec_template</th>\n",
       "      <th>query_type</th>\n",
       "      <th>creation_method</th>\n",
       "      <th>query_base</th>\n",
       "      <th>spec</th>\n",
       "      <th>solution</th>\n",
       "      <th>dataset_schema</th>\n",
       "      <th>query</th>\n",
       "      <th>expertise</th>\n",
       "      <th>formality</th>\n",
       "    </tr>\n",
       "  </thead>\n",
       "  <tbody>\n",
       "    <tr>\n",
       "      <th>0</th>\n",
       "      <td>How many &lt;E&gt; are there, grouped by &lt;F:n&gt;?</td>\n",
       "      <td>[F.c * 2 &lt; E.c, F.c &lt; 4]</td>\n",
       "      <td>{\"source\": {\"name\": \"&lt;E&gt;\", \"source\": \"&lt;E.url&gt;\"...</td>\n",
       "      <td>question</td>\n",
       "      <td>template</td>\n",
       "      <td>How many donors are there, grouped by weight_u...</td>\n",
       "      <td>{\"source\": {\"name\": \"donors\", \"source\": \"./dat...</td>\n",
       "      <td>{'E': {'entity': 'donors', 'url': './data/hubm...</td>\n",
       "      <td>hubmap</td>\n",
       "      <td>How many donors are there, grouped by weight_u...</td>\n",
       "      <td>-1</td>\n",
       "      <td>-1</td>\n",
       "    </tr>\n",
       "    <tr>\n",
       "      <th>0</th>\n",
       "      <td>How many &lt;E&gt; are there, grouped by &lt;F:n&gt;?</td>\n",
       "      <td>[F.c * 2 &lt; E.c, F.c &lt; 4]</td>\n",
       "      <td>{\"source\": {\"name\": \"&lt;E&gt;\", \"source\": \"&lt;E.url&gt;\"...</td>\n",
       "      <td>question</td>\n",
       "      <td>template</td>\n",
       "      <td>How many donors are there, grouped by sex?</td>\n",
       "      <td>{\"source\": {\"name\": \"donors\", \"source\": \"./dat...</td>\n",
       "      <td>{'E': {'entity': 'donors', 'url': './data/hubm...</td>\n",
       "      <td>hubmap</td>\n",
       "      <td>How many donors are there, grouped by sex?</td>\n",
       "      <td>-1</td>\n",
       "      <td>-1</td>\n",
       "    </tr>\n",
       "    <tr>\n",
       "      <th>0</th>\n",
       "      <td>How many &lt;E&gt; are there, grouped by &lt;F:n&gt;?</td>\n",
       "      <td>[F.c * 2 &lt; E.c, F.c &lt; 4]</td>\n",
       "      <td>{\"source\": {\"name\": \"&lt;E&gt;\", \"source\": \"&lt;E.url&gt;\"...</td>\n",
       "      <td>question</td>\n",
       "      <td>template</td>\n",
       "      <td>How many donors are there, grouped by serum_cr...</td>\n",
       "      <td>{\"source\": {\"name\": \"donors\", \"source\": \"./dat...</td>\n",
       "      <td>{'E': {'entity': 'donors', 'url': './data/hubm...</td>\n",
       "      <td>hubmap</td>\n",
       "      <td>How many donors are there, grouped by serum_cr...</td>\n",
       "      <td>-1</td>\n",
       "      <td>-1</td>\n",
       "    </tr>\n",
       "    <tr>\n",
       "      <th>0</th>\n",
       "      <td>How many &lt;E&gt; are there, grouped by &lt;F:n&gt;?</td>\n",
       "      <td>[F.c * 2 &lt; E.c, F.c &lt; 4]</td>\n",
       "      <td>{\"source\": {\"name\": \"&lt;E&gt;\", \"source\": \"&lt;E.url&gt;\"...</td>\n",
       "      <td>question</td>\n",
       "      <td>template</td>\n",
       "      <td>How many donors are there, grouped by rh_blood...</td>\n",
       "      <td>{\"source\": {\"name\": \"donors\", \"source\": \"./dat...</td>\n",
       "      <td>{'E': {'entity': 'donors', 'url': './data/hubm...</td>\n",
       "      <td>hubmap</td>\n",
       "      <td>How many donors are there, grouped by rh_blood...</td>\n",
       "      <td>-1</td>\n",
       "      <td>-1</td>\n",
       "    </tr>\n",
       "    <tr>\n",
       "      <th>0</th>\n",
       "      <td>How many &lt;E&gt; are there, grouped by &lt;F:n&gt;?</td>\n",
       "      <td>[F.c * 2 &lt; E.c, F.c &lt; 4]</td>\n",
       "      <td>{\"source\": {\"name\": \"&lt;E&gt;\", \"source\": \"&lt;E.url&gt;\"...</td>\n",
       "      <td>question</td>\n",
       "      <td>template</td>\n",
       "      <td>How many donors are there, grouped by patholog...</td>\n",
       "      <td>{\"source\": {\"name\": \"donors\", \"source\": \"./dat...</td>\n",
       "      <td>{'E': {'entity': 'donors', 'url': './data/hubm...</td>\n",
       "      <td>hubmap</td>\n",
       "      <td>How many donors are there, grouped by patholog...</td>\n",
       "      <td>-1</td>\n",
       "      <td>-1</td>\n",
       "    </tr>\n",
       "  </tbody>\n",
       "</table>\n",
       "</div>"
      ],
      "text/plain": [
       "                              query_template               constraints  \\\n",
       "0  How many <E> are there, grouped by <F:n>?  [F.c * 2 < E.c, F.c < 4]   \n",
       "0  How many <E> are there, grouped by <F:n>?  [F.c * 2 < E.c, F.c < 4]   \n",
       "0  How many <E> are there, grouped by <F:n>?  [F.c * 2 < E.c, F.c < 4]   \n",
       "0  How many <E> are there, grouped by <F:n>?  [F.c * 2 < E.c, F.c < 4]   \n",
       "0  How many <E> are there, grouped by <F:n>?  [F.c * 2 < E.c, F.c < 4]   \n",
       "\n",
       "                                       spec_template query_type  \\\n",
       "0  {\"source\": {\"name\": \"<E>\", \"source\": \"<E.url>\"...   question   \n",
       "0  {\"source\": {\"name\": \"<E>\", \"source\": \"<E.url>\"...   question   \n",
       "0  {\"source\": {\"name\": \"<E>\", \"source\": \"<E.url>\"...   question   \n",
       "0  {\"source\": {\"name\": \"<E>\", \"source\": \"<E.url>\"...   question   \n",
       "0  {\"source\": {\"name\": \"<E>\", \"source\": \"<E.url>\"...   question   \n",
       "\n",
       "  creation_method                                         query_base  \\\n",
       "0        template  How many donors are there, grouped by weight_u...   \n",
       "0        template         How many donors are there, grouped by sex?   \n",
       "0        template  How many donors are there, grouped by serum_cr...   \n",
       "0        template  How many donors are there, grouped by rh_blood...   \n",
       "0        template  How many donors are there, grouped by patholog...   \n",
       "\n",
       "                                                spec  \\\n",
       "0  {\"source\": {\"name\": \"donors\", \"source\": \"./dat...   \n",
       "0  {\"source\": {\"name\": \"donors\", \"source\": \"./dat...   \n",
       "0  {\"source\": {\"name\": \"donors\", \"source\": \"./dat...   \n",
       "0  {\"source\": {\"name\": \"donors\", \"source\": \"./dat...   \n",
       "0  {\"source\": {\"name\": \"donors\", \"source\": \"./dat...   \n",
       "\n",
       "                                            solution dataset_schema  \\\n",
       "0  {'E': {'entity': 'donors', 'url': './data/hubm...         hubmap   \n",
       "0  {'E': {'entity': 'donors', 'url': './data/hubm...         hubmap   \n",
       "0  {'E': {'entity': 'donors', 'url': './data/hubm...         hubmap   \n",
       "0  {'E': {'entity': 'donors', 'url': './data/hubm...         hubmap   \n",
       "0  {'E': {'entity': 'donors', 'url': './data/hubm...         hubmap   \n",
       "\n",
       "                                               query  expertise  formality  \n",
       "0  How many donors are there, grouped by weight_u...         -1         -1  \n",
       "0         How many donors are there, grouped by sex?         -1         -1  \n",
       "0  How many donors are there, grouped by serum_cr...         -1         -1  \n",
       "0  How many donors are there, grouped by rh_blood...         -1         -1  \n",
       "0  How many donors are there, grouped by patholog...         -1         -1  "
      ]
     },
     "execution_count": 204,
     "metadata": {},
     "output_type": "execute_result"
    }
   ],
   "source": [
    "importlib.reload(paraphraser)\n",
    "expanded_question_count = df.shape[0]\n",
    "if PERFORM_PARAPHRASING:\n",
    "    df = paraphraser.paraphrase(df)\n",
    "else:\n",
    "    df['query'] = df['query_base']\n",
    "    df['expertise'] = -1\n",
    "    df['formality'] = -1\n",
    "    \n",
    "paraphrased_question_count = df.shape[0]\n",
    "df.head()\n"
   ]
  },
  {
   "cell_type": "markdown",
   "metadata": {},
   "source": [
    "## Export as json object"
   ]
  },
  {
   "cell_type": "code",
   "execution_count": 205,
   "metadata": {},
   "outputs": [],
   "source": [
    "df.to_json('./out/training_data.json', orient='records')"
   ]
  },
  {
   "cell_type": "markdown",
   "metadata": {},
   "source": [
    "## Upload data to Huggging Face after converting data frame into format expected for fine tuning"
   ]
  },
  {
   "cell_type": "code",
   "execution_count": 206,
   "metadata": {},
   "outputs": [
    {
     "name": "stderr",
     "output_type": "stream",
     "text": [
      "Saving the dataset (1/1 shards): 100%|██████████| 86/86 [00:00<00:00, 1709.81 examples/s]\n",
      "Saving the dataset (1/1 shards): 100%|██████████| 86/86 [00:00<00:00, 1759.66 examples/s]\n"
     ]
    }
   ],
   "source": [
    "importlib.reload(convert_for_finetuning)\n",
    "\n",
    "with open('./datasets/UDIGrammarSchema.json') as grammar_file:\n",
    "    grammar_schema = json.load(grammar_file)\n",
    "    convert_for_finetuning.convert(df, schema_list, grammar_schema, './out/finetuning_data.json', './out/huggingface/', push_to_hub=UPLOAD_TO_HUGGINGFACE)\n"
   ]
  },
  {
   "cell_type": "markdown",
   "metadata": {},
   "source": [
    "## Sanity Check output"
   ]
  },
  {
   "cell_type": "code",
   "execution_count": 207,
   "metadata": {},
   "outputs": [
    {
     "data": {
      "text/markdown": [
       "### Generated **1** templates and expanded to **86** questions and paraphrased to **86**."
      ],
      "text/plain": [
       "<IPython.core.display.Markdown object>"
      ]
     },
     "metadata": {},
     "output_type": "display_data"
    }
   ],
   "source": [
    "from IPython.display import display, Markdown\n",
    "\n",
    "display(Markdown(f\"### Generated **{template_question_count:,}** templates and expanded to **{expanded_question_count:,}** questions and paraphrased to **{paraphrased_question_count:,}**.\"))"
   ]
  },
  {
   "cell_type": "code",
   "execution_count": null,
   "metadata": {},
   "outputs": [],
   "source": []
  }
 ],
 "metadata": {
  "kernelspec": {
   "display_name": ".newvenv",
   "language": "python",
   "name": "python3"
  },
  "language_info": {
   "codemirror_mode": {
    "name": "ipython",
    "version": 3
   },
   "file_extension": ".py",
   "mimetype": "text/x-python",
   "name": "python",
   "nbconvert_exporter": "python",
   "pygments_lexer": "ipython3",
   "version": "3.12.4"
  }
 },
 "nbformat": 4,
 "nbformat_minor": 2
}

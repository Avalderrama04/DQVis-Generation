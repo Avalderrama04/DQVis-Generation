{
 "cells": [
  {
   "cell_type": "code",
   "execution_count": 267,
   "metadata": {},
   "outputs": [],
   "source": [
    "# /// script\n",
    "# requires-python = \">=3.11\"\n",
    "# dependencies = [\n",
    "#     \"importlib\",\n",
    "#     \"pandas\",\n",
    "#     \"udi-grammar-py\",``\n",
    "# ]\n",
    "# ///"
   ]
  },
  {
   "cell_type": "code",
   "execution_count": 268,
   "metadata": {},
   "outputs": [],
   "source": [
    "from udi_grammar_py import Chart, Op, rolling\n",
    "import pandas as pd\n",
    "import sys\n",
    "import template_generation\n",
    "import schema_generation\n",
    "import template_expansion\n",
    "import paraphraser\n",
    "import importlib\n",
    "import json\n",
    "sys.path.append('.')"
   ]
  },
  {
   "cell_type": "markdown",
   "metadata": {},
   "source": [
    "## Use python to generate template training data."
   ]
  },
  {
   "cell_type": "code",
   "execution_count": 276,
   "metadata": {},
   "outputs": [
    {
     "name": "stdout",
     "output_type": "stream",
     "text": [
      "(7, 5)\n"
     ]
    },
    {
     "data": {
      "text/html": [
       "<div>\n",
       "<style scoped>\n",
       "    .dataframe tbody tr th:only-of-type {\n",
       "        vertical-align: middle;\n",
       "    }\n",
       "\n",
       "    .dataframe tbody tr th {\n",
       "        vertical-align: top;\n",
       "    }\n",
       "\n",
       "    .dataframe thead th {\n",
       "        text-align: right;\n",
       "    }\n",
       "</style>\n",
       "<table border=\"1\" class=\"dataframe\">\n",
       "  <thead>\n",
       "    <tr style=\"text-align: right;\">\n",
       "      <th></th>\n",
       "      <th>query_template</th>\n",
       "      <th>constraints</th>\n",
       "      <th>spec_template</th>\n",
       "      <th>query_type</th>\n",
       "      <th>creation_method</th>\n",
       "    </tr>\n",
       "  </thead>\n",
       "  <tbody>\n",
       "    <tr>\n",
       "      <th>0</th>\n",
       "      <td>How many &lt;E&gt; are there, grouped by &lt;F:N&gt;?</td>\n",
       "      <td>[F.C * 2 &lt; E.C, F.C &lt; 4]</td>\n",
       "      <td>{\"source\": {\"name\": \"&lt;E&gt;\", \"source\": \"&lt;E.url&gt;\"...</td>\n",
       "      <td>question</td>\n",
       "      <td>template</td>\n",
       "    </tr>\n",
       "    <tr>\n",
       "      <th>1</th>\n",
       "      <td>How many &lt;E&gt; are there, grouped by &lt;F:N&gt;?</td>\n",
       "      <td>[F.C * 2 &lt; E.C, F.C &gt;= 4, F.C &lt; 25]</td>\n",
       "      <td>{\"source\": {\"name\": \"&lt;E&gt;\", \"source\": \"&lt;E.url&gt;\"...</td>\n",
       "      <td>question</td>\n",
       "      <td>template</td>\n",
       "    </tr>\n",
       "    <tr>\n",
       "      <th>2</th>\n",
       "      <td>Is there a correlation between &lt;F1:Q&gt; and &lt;F2:Q&gt;?</td>\n",
       "      <td>[F1.C &gt; 10, F2.C &gt; 10]</td>\n",
       "      <td>{\"source\": {\"name\": \"&lt;E&gt;\", \"source\": \"&lt;E.url&gt;\"...</td>\n",
       "      <td>question</td>\n",
       "      <td>template</td>\n",
       "    </tr>\n",
       "    <tr>\n",
       "      <th>3</th>\n",
       "      <td>What is the distribution of &lt;F:Q&gt;?</td>\n",
       "      <td>[E.C &gt; 20]</td>\n",
       "      <td>{\"source\": {\"name\": \"&lt;E&gt;\", \"source\": \"&lt;E.url&gt;\"...</td>\n",
       "      <td>question</td>\n",
       "      <td>template</td>\n",
       "    </tr>\n",
       "    <tr>\n",
       "      <th>4</th>\n",
       "      <td>What is the distribution of &lt;F:Q&gt;?</td>\n",
       "      <td>[E.C &lt; 20, E.C &gt; 3]</td>\n",
       "      <td>{\"source\": {\"name\": \"&lt;E&gt;\", \"source\": \"&lt;E.url&gt;\"...</td>\n",
       "      <td>question</td>\n",
       "      <td>template</td>\n",
       "    </tr>\n",
       "  </tbody>\n",
       "</table>\n",
       "</div>"
      ],
      "text/plain": [
       "                                      query_template  \\\n",
       "0          How many <E> are there, grouped by <F:N>?   \n",
       "1          How many <E> are there, grouped by <F:N>?   \n",
       "2  Is there a correlation between <F1:Q> and <F2:Q>?   \n",
       "3                 What is the distribution of <F:Q>?   \n",
       "4                 What is the distribution of <F:Q>?   \n",
       "\n",
       "                           constraints  \\\n",
       "0             [F.C * 2 < E.C, F.C < 4]   \n",
       "1  [F.C * 2 < E.C, F.C >= 4, F.C < 25]   \n",
       "2               [F1.C > 10, F2.C > 10]   \n",
       "3                           [E.C > 20]   \n",
       "4                  [E.C < 20, E.C > 3]   \n",
       "\n",
       "                                       spec_template query_type  \\\n",
       "0  {\"source\": {\"name\": \"<E>\", \"source\": \"<E.url>\"...   question   \n",
       "1  {\"source\": {\"name\": \"<E>\", \"source\": \"<E.url>\"...   question   \n",
       "2  {\"source\": {\"name\": \"<E>\", \"source\": \"<E.url>\"...   question   \n",
       "3  {\"source\": {\"name\": \"<E>\", \"source\": \"<E.url>\"...   question   \n",
       "4  {\"source\": {\"name\": \"<E>\", \"source\": \"<E.url>\"...   question   \n",
       "\n",
       "  creation_method  \n",
       "0        template  \n",
       "1        template  \n",
       "2        template  \n",
       "3        template  \n",
       "4        template  "
      ]
     },
     "execution_count": 276,
     "metadata": {},
     "output_type": "execute_result"
    }
   ],
   "source": [
    "importlib.reload(template_generation)\n",
    "df = template_generation.generate()\n",
    "print(df.shape)\n",
    "df.head()"
   ]
  },
  {
   "cell_type": "markdown",
   "metadata": {},
   "source": [
    "## update data schema based on files in ./datasets folder"
   ]
  },
  {
   "cell_type": "code",
   "execution_count": 270,
   "metadata": {},
   "outputs": [],
   "source": [
    "importlib.reload(schema_generation)\n",
    "schema_generation.main()"
   ]
  },
  {
   "cell_type": "markdown",
   "metadata": {},
   "source": [
    "## Contextualize the template training data by putting in real entity names and fields if they satisfy the constraints."
   ]
  },
  {
   "cell_type": "code",
   "execution_count": 271,
   "metadata": {},
   "outputs": [
    {
     "data": {
      "text/html": [
       "<div>\n",
       "<style scoped>\n",
       "    .dataframe tbody tr th:only-of-type {\n",
       "        vertical-align: middle;\n",
       "    }\n",
       "\n",
       "    .dataframe tbody tr th {\n",
       "        vertical-align: top;\n",
       "    }\n",
       "\n",
       "    .dataframe thead th {\n",
       "        text-align: right;\n",
       "    }\n",
       "</style>\n",
       "<table border=\"1\" class=\"dataframe\">\n",
       "  <thead>\n",
       "    <tr style=\"text-align: right;\">\n",
       "      <th></th>\n",
       "      <th>query_template</th>\n",
       "      <th>constraints</th>\n",
       "      <th>spec_template</th>\n",
       "      <th>query_type</th>\n",
       "      <th>creation_method</th>\n",
       "      <th>query_base</th>\n",
       "      <th>spec</th>\n",
       "      <th>dataset_schema</th>\n",
       "    </tr>\n",
       "  </thead>\n",
       "  <tbody>\n",
       "    <tr>\n",
       "      <th>0</th>\n",
       "      <td>How many &lt;E&gt; are there, grouped by &lt;F:N&gt;?</td>\n",
       "      <td>[F.C * 2 &lt; E.C, F.C &lt; 4]</td>\n",
       "      <td>{\"source\": {\"name\": \"&lt;E&gt;\", \"source\": \"&lt;E.url&gt;\"...</td>\n",
       "      <td>question</td>\n",
       "      <td>template</td>\n",
       "      <td>How many penguins are there, grouped by sex?</td>\n",
       "      <td>{\"source\": {\"name\": \"penguins\", \"source\": \"./d...</td>\n",
       "      <td>penguins</td>\n",
       "    </tr>\n",
       "    <tr>\n",
       "      <th>0</th>\n",
       "      <td>How many &lt;E&gt; are there, grouped by &lt;F:N&gt;?</td>\n",
       "      <td>[F.C * 2 &lt; E.C, F.C &lt; 4]</td>\n",
       "      <td>{\"source\": {\"name\": \"&lt;E&gt;\", \"source\": \"&lt;E.url&gt;\"...</td>\n",
       "      <td>question</td>\n",
       "      <td>template</td>\n",
       "      <td>How many penguins are there, grouped by island?</td>\n",
       "      <td>{\"source\": {\"name\": \"penguins\", \"source\": \"./d...</td>\n",
       "      <td>penguins</td>\n",
       "    </tr>\n",
       "    <tr>\n",
       "      <th>0</th>\n",
       "      <td>How many &lt;E&gt; are there, grouped by &lt;F:N&gt;?</td>\n",
       "      <td>[F.C * 2 &lt; E.C, F.C &lt; 4]</td>\n",
       "      <td>{\"source\": {\"name\": \"&lt;E&gt;\", \"source\": \"&lt;E.url&gt;\"...</td>\n",
       "      <td>question</td>\n",
       "      <td>template</td>\n",
       "      <td>How many penguins are there, grouped by species?</td>\n",
       "      <td>{\"source\": {\"name\": \"penguins\", \"source\": \"./d...</td>\n",
       "      <td>penguins</td>\n",
       "    </tr>\n",
       "    <tr>\n",
       "      <th>0</th>\n",
       "      <td>How many &lt;E&gt; are there, grouped by &lt;F:N&gt;?</td>\n",
       "      <td>[F.C * 2 &lt; E.C, F.C &lt; 4]</td>\n",
       "      <td>{\"source\": {\"name\": \"&lt;E&gt;\", \"source\": \"&lt;E.url&gt;\"...</td>\n",
       "      <td>question</td>\n",
       "      <td>template</td>\n",
       "      <td>How many fake_donors are there, grouped by sex?</td>\n",
       "      <td>{\"source\": {\"name\": \"fake_donors\", \"source\": \"...</td>\n",
       "      <td>fakePortal</td>\n",
       "    </tr>\n",
       "    <tr>\n",
       "      <th>0</th>\n",
       "      <td>How many &lt;E&gt; are there, grouped by &lt;F:N&gt;?</td>\n",
       "      <td>[F.C * 2 &lt; E.C, F.C &lt; 4]</td>\n",
       "      <td>{\"source\": {\"name\": \"&lt;E&gt;\", \"source\": \"&lt;E.url&gt;\"...</td>\n",
       "      <td>question</td>\n",
       "      <td>template</td>\n",
       "      <td>How many fake_samples are there, grouped by sa...</td>\n",
       "      <td>{\"source\": {\"name\": \"fake_samples\", \"source\": ...</td>\n",
       "      <td>fakePortal</td>\n",
       "    </tr>\n",
       "  </tbody>\n",
       "</table>\n",
       "</div>"
      ],
      "text/plain": [
       "                              query_template               constraints  \\\n",
       "0  How many <E> are there, grouped by <F:N>?  [F.C * 2 < E.C, F.C < 4]   \n",
       "0  How many <E> are there, grouped by <F:N>?  [F.C * 2 < E.C, F.C < 4]   \n",
       "0  How many <E> are there, grouped by <F:N>?  [F.C * 2 < E.C, F.C < 4]   \n",
       "0  How many <E> are there, grouped by <F:N>?  [F.C * 2 < E.C, F.C < 4]   \n",
       "0  How many <E> are there, grouped by <F:N>?  [F.C * 2 < E.C, F.C < 4]   \n",
       "\n",
       "                                       spec_template query_type  \\\n",
       "0  {\"source\": {\"name\": \"<E>\", \"source\": \"<E.url>\"...   question   \n",
       "0  {\"source\": {\"name\": \"<E>\", \"source\": \"<E.url>\"...   question   \n",
       "0  {\"source\": {\"name\": \"<E>\", \"source\": \"<E.url>\"...   question   \n",
       "0  {\"source\": {\"name\": \"<E>\", \"source\": \"<E.url>\"...   question   \n",
       "0  {\"source\": {\"name\": \"<E>\", \"source\": \"<E.url>\"...   question   \n",
       "\n",
       "  creation_method                                         query_base  \\\n",
       "0        template       How many penguins are there, grouped by sex?   \n",
       "0        template    How many penguins are there, grouped by island?   \n",
       "0        template   How many penguins are there, grouped by species?   \n",
       "0        template    How many fake_donors are there, grouped by sex?   \n",
       "0        template  How many fake_samples are there, grouped by sa...   \n",
       "\n",
       "                                                spec dataset_schema  \n",
       "0  {\"source\": {\"name\": \"penguins\", \"source\": \"./d...       penguins  \n",
       "0  {\"source\": {\"name\": \"penguins\", \"source\": \"./d...       penguins  \n",
       "0  {\"source\": {\"name\": \"penguins\", \"source\": \"./d...       penguins  \n",
       "0  {\"source\": {\"name\": \"fake_donors\", \"source\": \"...     fakePortal  \n",
       "0  {\"source\": {\"name\": \"fake_samples\", \"source\": ...     fakePortal  "
      ]
     },
     "execution_count": 271,
     "metadata": {},
     "output_type": "execute_result"
    }
   ],
   "source": [
    "importlib.reload(template_expansion)\n",
    "with open('./datasets/schema.json') as f:\n",
    "    schema_list = json.load(f)\n",
    "    df = template_expansion.expand(df, schema_list)\n",
    "\n",
    "df.head()"
   ]
  },
  {
   "cell_type": "markdown",
   "metadata": {},
   "source": [
    "## The paraphraser will use LLM frameork to paraphrase the query_base into several options\n"
   ]
  },
  {
   "cell_type": "code",
   "execution_count": 272,
   "metadata": {},
   "outputs": [
    {
     "data": {
      "text/html": [
       "<div>\n",
       "<style scoped>\n",
       "    .dataframe tbody tr th:only-of-type {\n",
       "        vertical-align: middle;\n",
       "    }\n",
       "\n",
       "    .dataframe tbody tr th {\n",
       "        vertical-align: top;\n",
       "    }\n",
       "\n",
       "    .dataframe thead th {\n",
       "        text-align: right;\n",
       "    }\n",
       "</style>\n",
       "<table border=\"1\" class=\"dataframe\">\n",
       "  <thead>\n",
       "    <tr style=\"text-align: right;\">\n",
       "      <th></th>\n",
       "      <th>query_template</th>\n",
       "      <th>constraints</th>\n",
       "      <th>spec_template</th>\n",
       "      <th>query_type</th>\n",
       "      <th>creation_method</th>\n",
       "      <th>query_base</th>\n",
       "      <th>spec</th>\n",
       "      <th>dataset_schema</th>\n",
       "      <th>query</th>\n",
       "      <th>expertise</th>\n",
       "      <th>formality</th>\n",
       "    </tr>\n",
       "  </thead>\n",
       "  <tbody>\n",
       "    <tr>\n",
       "      <th>0</th>\n",
       "      <td>How many &lt;E&gt; are there, grouped by &lt;F:N&gt;?</td>\n",
       "      <td>[F.C * 2 &lt; E.C, F.C &lt; 4]</td>\n",
       "      <td>{\"source\": {\"name\": \"&lt;E&gt;\", \"source\": \"&lt;E.url&gt;\"...</td>\n",
       "      <td>question</td>\n",
       "      <td>template</td>\n",
       "      <td>How many penguins are there, grouped by sex?</td>\n",
       "      <td>{\"source\": {\"name\": \"penguins\", \"source\": \"./d...</td>\n",
       "      <td>penguins</td>\n",
       "      <td>How many penguins are there, grouped by sex?</td>\n",
       "      <td>-1</td>\n",
       "      <td>-1</td>\n",
       "    </tr>\n",
       "    <tr>\n",
       "      <th>0</th>\n",
       "      <td>How many &lt;E&gt; are there, grouped by &lt;F:N&gt;?</td>\n",
       "      <td>[F.C * 2 &lt; E.C, F.C &lt; 4]</td>\n",
       "      <td>{\"source\": {\"name\": \"&lt;E&gt;\", \"source\": \"&lt;E.url&gt;\"...</td>\n",
       "      <td>question</td>\n",
       "      <td>template</td>\n",
       "      <td>How many penguins are there, grouped by island?</td>\n",
       "      <td>{\"source\": {\"name\": \"penguins\", \"source\": \"./d...</td>\n",
       "      <td>penguins</td>\n",
       "      <td>How many penguins are there, grouped by island?</td>\n",
       "      <td>-1</td>\n",
       "      <td>-1</td>\n",
       "    </tr>\n",
       "    <tr>\n",
       "      <th>0</th>\n",
       "      <td>How many &lt;E&gt; are there, grouped by &lt;F:N&gt;?</td>\n",
       "      <td>[F.C * 2 &lt; E.C, F.C &lt; 4]</td>\n",
       "      <td>{\"source\": {\"name\": \"&lt;E&gt;\", \"source\": \"&lt;E.url&gt;\"...</td>\n",
       "      <td>question</td>\n",
       "      <td>template</td>\n",
       "      <td>How many penguins are there, grouped by species?</td>\n",
       "      <td>{\"source\": {\"name\": \"penguins\", \"source\": \"./d...</td>\n",
       "      <td>penguins</td>\n",
       "      <td>How many penguins are there, grouped by species?</td>\n",
       "      <td>-1</td>\n",
       "      <td>-1</td>\n",
       "    </tr>\n",
       "    <tr>\n",
       "      <th>0</th>\n",
       "      <td>How many &lt;E&gt; are there, grouped by &lt;F:N&gt;?</td>\n",
       "      <td>[F.C * 2 &lt; E.C, F.C &lt; 4]</td>\n",
       "      <td>{\"source\": {\"name\": \"&lt;E&gt;\", \"source\": \"&lt;E.url&gt;\"...</td>\n",
       "      <td>question</td>\n",
       "      <td>template</td>\n",
       "      <td>How many fake_donors are there, grouped by sex?</td>\n",
       "      <td>{\"source\": {\"name\": \"fake_donors\", \"source\": \"...</td>\n",
       "      <td>fakePortal</td>\n",
       "      <td>How many fake_donors are there, grouped by sex?</td>\n",
       "      <td>-1</td>\n",
       "      <td>-1</td>\n",
       "    </tr>\n",
       "    <tr>\n",
       "      <th>0</th>\n",
       "      <td>How many &lt;E&gt; are there, grouped by &lt;F:N&gt;?</td>\n",
       "      <td>[F.C * 2 &lt; E.C, F.C &lt; 4]</td>\n",
       "      <td>{\"source\": {\"name\": \"&lt;E&gt;\", \"source\": \"&lt;E.url&gt;\"...</td>\n",
       "      <td>question</td>\n",
       "      <td>template</td>\n",
       "      <td>How many fake_samples are there, grouped by sa...</td>\n",
       "      <td>{\"source\": {\"name\": \"fake_samples\", \"source\": ...</td>\n",
       "      <td>fakePortal</td>\n",
       "      <td>How many fake_samples are there, grouped by sa...</td>\n",
       "      <td>-1</td>\n",
       "      <td>-1</td>\n",
       "    </tr>\n",
       "  </tbody>\n",
       "</table>\n",
       "</div>"
      ],
      "text/plain": [
       "                              query_template               constraints  \\\n",
       "0  How many <E> are there, grouped by <F:N>?  [F.C * 2 < E.C, F.C < 4]   \n",
       "0  How many <E> are there, grouped by <F:N>?  [F.C * 2 < E.C, F.C < 4]   \n",
       "0  How many <E> are there, grouped by <F:N>?  [F.C * 2 < E.C, F.C < 4]   \n",
       "0  How many <E> are there, grouped by <F:N>?  [F.C * 2 < E.C, F.C < 4]   \n",
       "0  How many <E> are there, grouped by <F:N>?  [F.C * 2 < E.C, F.C < 4]   \n",
       "\n",
       "                                       spec_template query_type  \\\n",
       "0  {\"source\": {\"name\": \"<E>\", \"source\": \"<E.url>\"...   question   \n",
       "0  {\"source\": {\"name\": \"<E>\", \"source\": \"<E.url>\"...   question   \n",
       "0  {\"source\": {\"name\": \"<E>\", \"source\": \"<E.url>\"...   question   \n",
       "0  {\"source\": {\"name\": \"<E>\", \"source\": \"<E.url>\"...   question   \n",
       "0  {\"source\": {\"name\": \"<E>\", \"source\": \"<E.url>\"...   question   \n",
       "\n",
       "  creation_method                                         query_base  \\\n",
       "0        template       How many penguins are there, grouped by sex?   \n",
       "0        template    How many penguins are there, grouped by island?   \n",
       "0        template   How many penguins are there, grouped by species?   \n",
       "0        template    How many fake_donors are there, grouped by sex?   \n",
       "0        template  How many fake_samples are there, grouped by sa...   \n",
       "\n",
       "                                                spec dataset_schema  \\\n",
       "0  {\"source\": {\"name\": \"penguins\", \"source\": \"./d...       penguins   \n",
       "0  {\"source\": {\"name\": \"penguins\", \"source\": \"./d...       penguins   \n",
       "0  {\"source\": {\"name\": \"penguins\", \"source\": \"./d...       penguins   \n",
       "0  {\"source\": {\"name\": \"fake_donors\", \"source\": \"...     fakePortal   \n",
       "0  {\"source\": {\"name\": \"fake_samples\", \"source\": ...     fakePortal   \n",
       "\n",
       "                                               query  expertise  formality  \n",
       "0       How many penguins are there, grouped by sex?         -1         -1  \n",
       "0    How many penguins are there, grouped by island?         -1         -1  \n",
       "0   How many penguins are there, grouped by species?         -1         -1  \n",
       "0    How many fake_donors are there, grouped by sex?         -1         -1  \n",
       "0  How many fake_samples are there, grouped by sa...         -1         -1  "
      ]
     },
     "execution_count": 272,
     "metadata": {},
     "output_type": "execute_result"
    }
   ],
   "source": [
    "importlib.reload(paraphraser)\n",
    "df = paraphraser.paraphrase(df)\n",
    "df.head()\n"
   ]
  },
  {
   "cell_type": "markdown",
   "metadata": {},
   "source": [
    "## Export as json object"
   ]
  },
  {
   "cell_type": "code",
   "execution_count": 273,
   "metadata": {},
   "outputs": [],
   "source": [
    "df.to_json('./out/training_data.json', orient='records')"
   ]
  },
  {
   "cell_type": "code",
   "execution_count": 274,
   "metadata": {},
   "outputs": [
    {
     "name": "stdout",
     "output_type": "stream",
     "text": [
      "Index(['query_template', 'constraints', 'spec_template', 'query_type',\n",
      "       'creation_method', 'query_base', 'spec', 'dataset_schema', 'query',\n",
      "       'expertise', 'formality'],\n",
      "      dtype='object')\n"
     ]
    }
   ],
   "source": [
    "print(df.columns)"
   ]
  },
  {
   "cell_type": "code",
   "execution_count": 275,
   "metadata": {},
   "outputs": [
    {
     "name": "stdout",
     "output_type": "stream",
     "text": [
      "(4704, 11)\n"
     ]
    }
   ],
   "source": [
    "print(df.shape)"
   ]
  },
  {
   "cell_type": "code",
   "execution_count": null,
   "metadata": {},
   "outputs": [],
   "source": []
  }
 ],
 "metadata": {
  "kernelspec": {
   "display_name": ".newvenv",
   "language": "python",
   "name": "python3"
  },
  "language_info": {
   "codemirror_mode": {
    "name": "ipython",
    "version": 3
   },
   "file_extension": ".py",
   "mimetype": "text/x-python",
   "name": "python",
   "nbconvert_exporter": "python",
   "pygments_lexer": "ipython3",
   "version": "3.12.4"
  }
 },
 "nbformat": 4,
 "nbformat_minor": 2
}

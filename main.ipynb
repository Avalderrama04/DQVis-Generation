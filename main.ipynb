{
 "cells": [
  {
   "cell_type": "code",
   "execution_count": 1,
   "metadata": {},
   "outputs": [],
   "source": [
    "# /// script\n",
    "# requires-python = \">=3.13\"\n",
    "# dependencies = [\n",
    "#     \"importlib\",\n",
    "#     \"pandas\",\n",
    "#     \"udi-grammar-py\",\n",
    "# ]\n",
    "# ///"
   ]
  },
  {
   "cell_type": "code",
   "execution_count": 2,
   "metadata": {},
   "outputs": [],
   "source": [
    "from udi_grammar_py import Chart, Op, rolling\n",
    "import pandas as pd\n",
    "import sys\n",
    "import template_generation\n",
    "import importlib\n",
    "sys.path.append('.')"
   ]
  },
  {
   "cell_type": "markdown",
   "metadata": {},
   "source": [
    "## Use python to generate template training data."
   ]
  },
  {
   "cell_type": "code",
   "execution_count": null,
   "metadata": {},
   "outputs": [
    {
     "data": {
      "text/html": [
       "<div>\n",
       "<style scoped>\n",
       "    .dataframe tbody tr th:only-of-type {\n",
       "        vertical-align: middle;\n",
       "    }\n",
       "\n",
       "    .dataframe tbody tr th {\n",
       "        vertical-align: top;\n",
       "    }\n",
       "\n",
       "    .dataframe thead th {\n",
       "        text-align: right;\n",
       "    }\n",
       "</style>\n",
       "<table border=\"1\" class=\"dataframe\">\n",
       "  <thead>\n",
       "    <tr style=\"text-align: right;\">\n",
       "      <th></th>\n",
       "      <th>query_template</th>\n",
       "      <th>constraints</th>\n",
       "      <th>spec</th>\n",
       "      <th>query_type</th>\n",
       "      <th>creation_method</th>\n",
       "    </tr>\n",
       "  </thead>\n",
       "  <tbody>\n",
       "    <tr>\n",
       "      <th>0</th>\n",
       "      <td>How many &lt;E&gt; are there, grouped by &lt;E.F:N&gt;?</td>\n",
       "      <td></td>\n",
       "      <td>{\"source\": {\"name\": \"&lt;E&gt;\", \"source\": \"&lt;E.S&gt;\"},...</td>\n",
       "      <td>question</td>\n",
       "      <td>template</td>\n",
       "    </tr>\n",
       "    <tr>\n",
       "      <th>1</th>\n",
       "      <td>Is there a correlation between &lt;F1:Q&gt; and &lt;F2:Q&gt;?</td>\n",
       "      <td></td>\n",
       "      <td>{\"source\": {\"name\": \"&lt;E&gt;\", \"source\": \"&lt;E.S&gt;\"},...</td>\n",
       "      <td>question</td>\n",
       "      <td>template</td>\n",
       "    </tr>\n",
       "  </tbody>\n",
       "</table>\n",
       "</div>"
      ],
      "text/plain": [
       "                                      query_template constraints  \\\n",
       "0        How many <E> are there, grouped by <E.F:N>?               \n",
       "1  Is there a correlation between <F1:Q> and <F2:Q>?               \n",
       "\n",
       "                                                spec query_type  \\\n",
       "0  {\"source\": {\"name\": \"<E>\", \"source\": \"<E.S>\"},...   question   \n",
       "1  {\"source\": {\"name\": \"<E>\", \"source\": \"<E.S>\"},...   question   \n",
       "\n",
       "  creation_method  \n",
       "0        template  \n",
       "1        template  "
      ]
     },
     "execution_count": 5,
     "metadata": {},
     "output_type": "execute_result"
    }
   ],
   "source": [
    "importlib.reload(template_generation)\n",
    "df = template_generation.generate()\n",
    "df"
   ]
  },
  {
   "cell_type": "markdown",
   "metadata": {},
   "source": [
    "## Contextualize the template training data by putting in real entity names and fields if they satisfy the constraints."
   ]
  },
  {
   "cell_type": "code",
   "execution_count": null,
   "metadata": {},
   "outputs": [
    {
     "data": {
      "text/html": [
       "<div>\n",
       "<style scoped>\n",
       "    .dataframe tbody tr th:only-of-type {\n",
       "        vertical-align: middle;\n",
       "    }\n",
       "\n",
       "    .dataframe tbody tr th {\n",
       "        vertical-align: top;\n",
       "    }\n",
       "\n",
       "    .dataframe thead th {\n",
       "        text-align: right;\n",
       "    }\n",
       "</style>\n",
       "<table border=\"1\" class=\"dataframe\">\n",
       "  <thead>\n",
       "    <tr style=\"text-align: right;\">\n",
       "      <th></th>\n",
       "      <th>query_template</th>\n",
       "      <th>constraints</th>\n",
       "      <th>spec</th>\n",
       "      <th>query_type</th>\n",
       "      <th>creation_method</th>\n",
       "    </tr>\n",
       "  </thead>\n",
       "  <tbody>\n",
       "    <tr>\n",
       "      <th>0</th>\n",
       "      <td>How many &lt;E&gt; are there, grouped by &lt;E.F:N&gt;?</td>\n",
       "      <td></td>\n",
       "      <td>{\"source\": {\"name\": \"&lt;E&gt;\", \"source\": \"&lt;E.S&gt;\"},...</td>\n",
       "      <td>question</td>\n",
       "      <td>template</td>\n",
       "    </tr>\n",
       "    <tr>\n",
       "      <th>1</th>\n",
       "      <td>Is there a correlation between &lt;F1:Q&gt; and &lt;F2:Q&gt;?</td>\n",
       "      <td></td>\n",
       "      <td>{\"source\": {\"name\": \"&lt;E&gt;\", \"source\": \"&lt;E.S&gt;\"},...</td>\n",
       "      <td>question</td>\n",
       "      <td>template</td>\n",
       "    </tr>\n",
       "  </tbody>\n",
       "</table>\n",
       "</div>"
      ],
      "text/plain": [
       "                                      query_template constraints  \\\n",
       "0        How many <E> are there, grouped by <E.F:N>?               \n",
       "1  Is there a correlation between <F1:Q> and <F2:Q>?               \n",
       "\n",
       "                                                spec query_type  \\\n",
       "0  {\"source\": {\"name\": \"<E>\", \"source\": \"<E.S>\"},...   question   \n",
       "1  {\"source\": {\"name\": \"<E>\", \"source\": \"<E.S>\"},...   question   \n",
       "\n",
       "  creation_method  \n",
       "0        template  \n",
       "1        template  "
      ]
     },
     "execution_count": 6,
     "metadata": {},
     "output_type": "execute_result"
    }
   ],
   "source": [
    "# Will expand rows, and add 'query_base', 'dataset_schema_id'."
   ]
  },
  {
   "cell_type": "markdown",
   "metadata": {},
   "source": [
    "## The paraphraser will use LLM frameork to paraphrase the query_base into several options\n"
   ]
  },
  {
   "cell_type": "code",
   "execution_count": null,
   "metadata": {},
   "outputs": [],
   "source": [
    "# will add final 'query' and will add columns for the expertise / formality of the paraphrasing"
   ]
  }
 ],
 "metadata": {
  "kernelspec": {
   "display_name": ".venv",
   "language": "python",
   "name": "python3"
  },
  "language_info": {
   "codemirror_mode": {
    "name": "ipython",
    "version": 3
   },
   "file_extension": ".py",
   "mimetype": "text/x-python",
   "name": "python",
   "nbconvert_exporter": "python",
   "pygments_lexer": "ipython3",
   "version": "3.13.2"
  }
 },
 "nbformat": 4,
 "nbformat_minor": 2
}

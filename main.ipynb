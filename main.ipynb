{
 "cells": [
  {
   "cell_type": "code",
   "execution_count": 601,
   "metadata": {},
   "outputs": [],
   "source": [
    "# /// script\n",
    "# requires-python = \">=3.11\"\n",
    "# dependencies = [\n",
    "#     \"importlib\",\n",
    "#     \"pandas\",\n",
    "#     \"udi-grammar-py\",``\n",
    "# ]\n",
    "# ///"
   ]
  },
  {
   "cell_type": "code",
   "execution_count": 602,
   "metadata": {},
   "outputs": [],
   "source": [
    "from udi_grammar_py import Chart, Op, rolling\n",
    "import pandas as pd\n",
    "import sys\n",
    "import template_generation\n",
    "import schema_generation\n",
    "import template_expansion\n",
    "import paraphraser\n",
    "import convert_for_finetuning\n",
    "import importlib\n",
    "import json\n",
    "sys.path.append('.')"
   ]
  },
  {
   "cell_type": "markdown",
   "metadata": {},
   "source": [
    "## Use python to generate template training data."
   ]
  },
  {
   "cell_type": "code",
   "execution_count": 603,
   "metadata": {},
   "outputs": [
    {
     "data": {
      "text/html": [
       "<div>\n",
       "<style scoped>\n",
       "    .dataframe tbody tr th:only-of-type {\n",
       "        vertical-align: middle;\n",
       "    }\n",
       "\n",
       "    .dataframe tbody tr th {\n",
       "        vertical-align: top;\n",
       "    }\n",
       "\n",
       "    .dataframe thead th {\n",
       "        text-align: right;\n",
       "    }\n",
       "</style>\n",
       "<table border=\"1\" class=\"dataframe\">\n",
       "  <thead>\n",
       "    <tr style=\"text-align: right;\">\n",
       "      <th></th>\n",
       "      <th>query_template</th>\n",
       "      <th>constraints</th>\n",
       "      <th>spec_template</th>\n",
       "      <th>query_type</th>\n",
       "      <th>creation_method</th>\n",
       "    </tr>\n",
       "  </thead>\n",
       "  <tbody>\n",
       "    <tr>\n",
       "      <th>0</th>\n",
       "      <td>How many &lt;E&gt; are there, grouped by &lt;F:n&gt;?</td>\n",
       "      <td>[F.c * 2 &lt; E.c, F.c &lt; 4]</td>\n",
       "      <td>{\"source\": {\"name\": \"&lt;E&gt;\", \"source\": \"&lt;E.url&gt;\"...</td>\n",
       "      <td>question</td>\n",
       "      <td>template</td>\n",
       "    </tr>\n",
       "  </tbody>\n",
       "</table>\n",
       "</div>"
      ],
      "text/plain": [
       "                              query_template               constraints  \\\n",
       "0  How many <E> are there, grouped by <F:n>?  [F.c * 2 < E.c, F.c < 4]   \n",
       "\n",
       "                                       spec_template query_type  \\\n",
       "0  {\"source\": {\"name\": \"<E>\", \"source\": \"<E.url>\"...   question   \n",
       "\n",
       "  creation_method  \n",
       "0        template  "
      ]
     },
     "execution_count": 603,
     "metadata": {},
     "output_type": "execute_result"
    }
   ],
   "source": [
    "importlib.reload(template_generation)\n",
    "df = template_generation.generate()\n",
    "template_question_count = df.shape[0]\n",
    "df.head()"
   ]
  },
  {
   "cell_type": "markdown",
   "metadata": {},
   "source": [
    "## update data schema based on files in ./datasets folder"
   ]
  },
  {
   "cell_type": "code",
   "execution_count": 604,
   "metadata": {},
   "outputs": [],
   "source": [
    "importlib.reload(schema_generation)\n",
    "schema_generation.main()"
   ]
  },
  {
   "cell_type": "markdown",
   "metadata": {},
   "source": [
    "## Contextualize the template training data by putting in real entity names and fields if they satisfy the constraints."
   ]
  },
  {
   "cell_type": "code",
   "execution_count": 605,
   "metadata": {},
   "outputs": [
    {
     "data": {
      "text/html": [
       "<div>\n",
       "<style scoped>\n",
       "    .dataframe tbody tr th:only-of-type {\n",
       "        vertical-align: middle;\n",
       "    }\n",
       "\n",
       "    .dataframe tbody tr th {\n",
       "        vertical-align: top;\n",
       "    }\n",
       "\n",
       "    .dataframe thead th {\n",
       "        text-align: right;\n",
       "    }\n",
       "</style>\n",
       "<table border=\"1\" class=\"dataframe\">\n",
       "  <thead>\n",
       "    <tr style=\"text-align: right;\">\n",
       "      <th></th>\n",
       "      <th>query_template</th>\n",
       "      <th>constraints</th>\n",
       "      <th>spec_template</th>\n",
       "      <th>query_type</th>\n",
       "      <th>creation_method</th>\n",
       "      <th>query_base</th>\n",
       "      <th>spec</th>\n",
       "      <th>solution</th>\n",
       "      <th>dataset_schema</th>\n",
       "    </tr>\n",
       "  </thead>\n",
       "  <tbody>\n",
       "    <tr>\n",
       "      <th>0</th>\n",
       "      <td>How many &lt;E&gt; are there, grouped by &lt;F:n&gt;?</td>\n",
       "      <td>[F.c * 2 &lt; E.c, F.c &lt; 4]</td>\n",
       "      <td>{\"source\": {\"name\": \"&lt;E&gt;\", \"source\": \"&lt;E.url&gt;\"...</td>\n",
       "      <td>question</td>\n",
       "      <td>template</td>\n",
       "      <td>How many fake_donors are there, grouped by sex?</td>\n",
       "      <td>{\"source\": {\"name\": \"fake_donors\", \"source\": \"...</td>\n",
       "      <td>{'E': {'entity': 'fake_donors', 'url': './data...</td>\n",
       "      <td>fakePortal</td>\n",
       "    </tr>\n",
       "    <tr>\n",
       "      <th>0</th>\n",
       "      <td>How many &lt;E&gt; are there, grouped by &lt;F:n&gt;?</td>\n",
       "      <td>[F.c * 2 &lt; E.c, F.c &lt; 4]</td>\n",
       "      <td>{\"source\": {\"name\": \"&lt;E&gt;\", \"source\": \"&lt;E.url&gt;\"...</td>\n",
       "      <td>question</td>\n",
       "      <td>template</td>\n",
       "      <td>How many fake_samples are there, grouped by sa...</td>\n",
       "      <td>{\"source\": {\"name\": \"fake_samples\", \"source\": ...</td>\n",
       "      <td>{'E': {'entity': 'fake_samples', 'url': './dat...</td>\n",
       "      <td>fakePortal</td>\n",
       "    </tr>\n",
       "    <tr>\n",
       "      <th>0</th>\n",
       "      <td>How many &lt;E&gt; are there, grouped by &lt;F:n&gt;?</td>\n",
       "      <td>[F.c * 2 &lt; E.c, F.c &lt; 4]</td>\n",
       "      <td>{\"source\": {\"name\": \"&lt;E&gt;\", \"source\": \"&lt;E.url&gt;\"...</td>\n",
       "      <td>question</td>\n",
       "      <td>template</td>\n",
       "      <td>How many fake_samples are there, grouped by or...</td>\n",
       "      <td>{\"source\": {\"name\": \"fake_samples\", \"source\": ...</td>\n",
       "      <td>{'E': {'entity': 'fake_samples', 'url': './dat...</td>\n",
       "      <td>fakePortal</td>\n",
       "    </tr>\n",
       "  </tbody>\n",
       "</table>\n",
       "</div>"
      ],
      "text/plain": [
       "                              query_template               constraints  \\\n",
       "0  How many <E> are there, grouped by <F:n>?  [F.c * 2 < E.c, F.c < 4]   \n",
       "0  How many <E> are there, grouped by <F:n>?  [F.c * 2 < E.c, F.c < 4]   \n",
       "0  How many <E> are there, grouped by <F:n>?  [F.c * 2 < E.c, F.c < 4]   \n",
       "\n",
       "                                       spec_template query_type  \\\n",
       "0  {\"source\": {\"name\": \"<E>\", \"source\": \"<E.url>\"...   question   \n",
       "0  {\"source\": {\"name\": \"<E>\", \"source\": \"<E.url>\"...   question   \n",
       "0  {\"source\": {\"name\": \"<E>\", \"source\": \"<E.url>\"...   question   \n",
       "\n",
       "  creation_method                                         query_base  \\\n",
       "0        template    How many fake_donors are there, grouped by sex?   \n",
       "0        template  How many fake_samples are there, grouped by sa...   \n",
       "0        template  How many fake_samples are there, grouped by or...   \n",
       "\n",
       "                                                spec  \\\n",
       "0  {\"source\": {\"name\": \"fake_donors\", \"source\": \"...   \n",
       "0  {\"source\": {\"name\": \"fake_samples\", \"source\": ...   \n",
       "0  {\"source\": {\"name\": \"fake_samples\", \"source\": ...   \n",
       "\n",
       "                                            solution dataset_schema  \n",
       "0  {'E': {'entity': 'fake_donors', 'url': './data...     fakePortal  \n",
       "0  {'E': {'entity': 'fake_samples', 'url': './dat...     fakePortal  \n",
       "0  {'E': {'entity': 'fake_samples', 'url': './dat...     fakePortal  "
      ]
     },
     "execution_count": 605,
     "metadata": {},
     "output_type": "execute_result"
    }
   ],
   "source": [
    "importlib.reload(template_expansion)\n",
    "with open('./datasets/schema.json') as f:\n",
    "    schema_list = json.load(f)\n",
    "    df = template_expansion.expand(df, schema_list)\n",
    "\n",
    "df.head()"
   ]
  },
  {
   "cell_type": "markdown",
   "metadata": {},
   "source": [
    "## The paraphraser will use LLM frameork to paraphrase the query_base into several options\n"
   ]
  },
  {
   "cell_type": "code",
   "execution_count": 606,
   "metadata": {},
   "outputs": [
    {
     "data": {
      "text/html": [
       "<div>\n",
       "<style scoped>\n",
       "    .dataframe tbody tr th:only-of-type {\n",
       "        vertical-align: middle;\n",
       "    }\n",
       "\n",
       "    .dataframe tbody tr th {\n",
       "        vertical-align: top;\n",
       "    }\n",
       "\n",
       "    .dataframe thead th {\n",
       "        text-align: right;\n",
       "    }\n",
       "</style>\n",
       "<table border=\"1\" class=\"dataframe\">\n",
       "  <thead>\n",
       "    <tr style=\"text-align: right;\">\n",
       "      <th></th>\n",
       "      <th>query_template</th>\n",
       "      <th>constraints</th>\n",
       "      <th>spec_template</th>\n",
       "      <th>query_type</th>\n",
       "      <th>creation_method</th>\n",
       "      <th>query_base</th>\n",
       "      <th>spec</th>\n",
       "      <th>solution</th>\n",
       "      <th>dataset_schema</th>\n",
       "      <th>query</th>\n",
       "      <th>expertise</th>\n",
       "      <th>formality</th>\n",
       "    </tr>\n",
       "  </thead>\n",
       "  <tbody>\n",
       "    <tr>\n",
       "      <th>0</th>\n",
       "      <td>How many &lt;E&gt; are there, grouped by &lt;F:n&gt;?</td>\n",
       "      <td>[F.c * 2 &lt; E.c, F.c &lt; 4]</td>\n",
       "      <td>{\"source\": {\"name\": \"&lt;E&gt;\", \"source\": \"&lt;E.url&gt;\"...</td>\n",
       "      <td>question</td>\n",
       "      <td>template</td>\n",
       "      <td>How many fake_donors are there, grouped by sex?</td>\n",
       "      <td>{\"source\": {\"name\": \"fake_donors\", \"source\": \"...</td>\n",
       "      <td>{'E': {'entity': 'fake_donors', 'url': './data...</td>\n",
       "      <td>fakePortal</td>\n",
       "      <td>How many fake_donors are there, grouped by sex?</td>\n",
       "      <td>-1</td>\n",
       "      <td>-1</td>\n",
       "    </tr>\n",
       "    <tr>\n",
       "      <th>0</th>\n",
       "      <td>How many &lt;E&gt; are there, grouped by &lt;F:n&gt;?</td>\n",
       "      <td>[F.c * 2 &lt; E.c, F.c &lt; 4]</td>\n",
       "      <td>{\"source\": {\"name\": \"&lt;E&gt;\", \"source\": \"&lt;E.url&gt;\"...</td>\n",
       "      <td>question</td>\n",
       "      <td>template</td>\n",
       "      <td>How many fake_samples are there, grouped by sa...</td>\n",
       "      <td>{\"source\": {\"name\": \"fake_samples\", \"source\": ...</td>\n",
       "      <td>{'E': {'entity': 'fake_samples', 'url': './dat...</td>\n",
       "      <td>fakePortal</td>\n",
       "      <td>How many fake_samples are there, grouped by sa...</td>\n",
       "      <td>-1</td>\n",
       "      <td>-1</td>\n",
       "    </tr>\n",
       "    <tr>\n",
       "      <th>0</th>\n",
       "      <td>How many &lt;E&gt; are there, grouped by &lt;F:n&gt;?</td>\n",
       "      <td>[F.c * 2 &lt; E.c, F.c &lt; 4]</td>\n",
       "      <td>{\"source\": {\"name\": \"&lt;E&gt;\", \"source\": \"&lt;E.url&gt;\"...</td>\n",
       "      <td>question</td>\n",
       "      <td>template</td>\n",
       "      <td>How many fake_samples are there, grouped by or...</td>\n",
       "      <td>{\"source\": {\"name\": \"fake_samples\", \"source\": ...</td>\n",
       "      <td>{'E': {'entity': 'fake_samples', 'url': './dat...</td>\n",
       "      <td>fakePortal</td>\n",
       "      <td>How many fake_samples are there, grouped by or...</td>\n",
       "      <td>-1</td>\n",
       "      <td>-1</td>\n",
       "    </tr>\n",
       "  </tbody>\n",
       "</table>\n",
       "</div>"
      ],
      "text/plain": [
       "                              query_template               constraints  \\\n",
       "0  How many <E> are there, grouped by <F:n>?  [F.c * 2 < E.c, F.c < 4]   \n",
       "0  How many <E> are there, grouped by <F:n>?  [F.c * 2 < E.c, F.c < 4]   \n",
       "0  How many <E> are there, grouped by <F:n>?  [F.c * 2 < E.c, F.c < 4]   \n",
       "\n",
       "                                       spec_template query_type  \\\n",
       "0  {\"source\": {\"name\": \"<E>\", \"source\": \"<E.url>\"...   question   \n",
       "0  {\"source\": {\"name\": \"<E>\", \"source\": \"<E.url>\"...   question   \n",
       "0  {\"source\": {\"name\": \"<E>\", \"source\": \"<E.url>\"...   question   \n",
       "\n",
       "  creation_method                                         query_base  \\\n",
       "0        template    How many fake_donors are there, grouped by sex?   \n",
       "0        template  How many fake_samples are there, grouped by sa...   \n",
       "0        template  How many fake_samples are there, grouped by or...   \n",
       "\n",
       "                                                spec  \\\n",
       "0  {\"source\": {\"name\": \"fake_donors\", \"source\": \"...   \n",
       "0  {\"source\": {\"name\": \"fake_samples\", \"source\": ...   \n",
       "0  {\"source\": {\"name\": \"fake_samples\", \"source\": ...   \n",
       "\n",
       "                                            solution dataset_schema  \\\n",
       "0  {'E': {'entity': 'fake_donors', 'url': './data...     fakePortal   \n",
       "0  {'E': {'entity': 'fake_samples', 'url': './dat...     fakePortal   \n",
       "0  {'E': {'entity': 'fake_samples', 'url': './dat...     fakePortal   \n",
       "\n",
       "                                               query  expertise  formality  \n",
       "0    How many fake_donors are there, grouped by sex?         -1         -1  \n",
       "0  How many fake_samples are there, grouped by sa...         -1         -1  \n",
       "0  How many fake_samples are there, grouped by or...         -1         -1  "
      ]
     },
     "execution_count": 606,
     "metadata": {},
     "output_type": "execute_result"
    }
   ],
   "source": [
    "importlib.reload(paraphraser)\n",
    "df = paraphraser.paraphrase(df)\n",
    "df.head()\n"
   ]
  },
  {
   "cell_type": "markdown",
   "metadata": {},
   "source": [
    "## Export as json object"
   ]
  },
  {
   "cell_type": "code",
   "execution_count": 607,
   "metadata": {},
   "outputs": [],
   "source": [
    "df.to_json('./out/training_data.json', orient='records')"
   ]
  },
  {
   "cell_type": "code",
   "execution_count": 608,
   "metadata": {},
   "outputs": [
    {
     "name": "stdout",
     "output_type": "stream",
     "text": [
      "Index(['query_template', 'constraints', 'spec_template', 'query_type',\n",
      "       'creation_method', 'query_base', 'spec', 'solution', 'dataset_schema',\n",
      "       'query', 'expertise', 'formality'],\n",
      "      dtype='object')\n"
     ]
    }
   ],
   "source": [
    "print(df.columns)"
   ]
  },
  {
   "cell_type": "code",
   "execution_count": 609,
   "metadata": {},
   "outputs": [
    {
     "name": "stdout",
     "output_type": "stream",
     "text": [
      "Generated 1 templates and expanded to 3 questions.\n"
     ]
    }
   ],
   "source": [
    "# print(df.shape)\n",
    "expanded_question_count = df.shape[0]\n",
    "print(f\"Generated {template_question_count} templates and expanded to {expanded_question_count} questions.\")"
   ]
  },
  {
   "cell_type": "markdown",
   "metadata": {},
   "source": [
    "## Convert data frame into format expected for fine tuning"
   ]
  },
  {
   "cell_type": "code",
   "execution_count": null,
   "metadata": {},
   "outputs": [],
   "source": [
    "importlib.reload(convert_for_finetuning)\n",
    "single_row = df.iloc[[0]]\n",
    "\n",
    "with open('./datasets/UDIGrammarSchema.json') as grammar_file:\n",
    "    grammar_schema = json.load(grammar_file)\n",
    "    convert_for_finetuning.convert(single_row, schema_list, grammar_schema, './out/finetuning_data.json')\n"
   ]
  },
  {
   "cell_type": "code",
   "execution_count": null,
   "metadata": {},
   "outputs": [],
   "source": []
  }
 ],
 "metadata": {
  "kernelspec": {
   "display_name": ".newvenv",
   "language": "python",
   "name": "python3"
  },
  "language_info": {
   "codemirror_mode": {
    "name": "ipython",
    "version": 3
   },
   "file_extension": ".py",
   "mimetype": "text/x-python",
   "name": "python",
   "nbconvert_exporter": "python",
   "pygments_lexer": "ipython3",
   "version": "3.12.4"
  }
 },
 "nbformat": 4,
 "nbformat_minor": 2
}

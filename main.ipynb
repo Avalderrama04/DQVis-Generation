{
 "cells": [
  {
   "cell_type": "code",
   "execution_count": null,
   "metadata": {},
   "outputs": [],
   "source": [
    "# /// script\n",
    "# requires-python = \">=3.11\"\n",
    "# dependencies = [\n",
    "#     \"importlib\",\n",
    "#     \"pandas\",\n",
    "#     \"udi-grammar-py\",``\n",
    "# ]\n",
    "# ///"
   ]
  },
  {
   "cell_type": "markdown",
   "metadata": {},
   "source": [
    "## Imports + Top-Level Variables"
   ]
  },
  {
   "cell_type": "code",
   "execution_count": null,
   "metadata": {},
   "outputs": [],
   "source": [
    "from udi_grammar_py import Chart, Op, rolling\n",
    "import pandas as pd\n",
    "import sys\n",
    "import template_generation\n",
    "import schema_generation\n",
    "import template_expansion\n",
    "import paraphraser\n",
    "import convert_for_finetuning\n",
    "import importlib\n",
    "import json\n",
    "sys.path.append('.')\n",
    "\n",
    "UPLOAD_TO_HUGGINGFACE = False # Set to True if you want to upload the training data to Hugging Face\n",
    "PERFORM_PARAPHRASING = True # paraphrasing is time consuming, so skipping makes it easier to test the rest of the pipeline\n",
    "ONLY_CACHED = True # if True, only cached data for paraphrasing will be used only matters if PERFORM_PARAPHRASING is True"
   ]
  },
  {
   "cell_type": "code",
   "execution_count": null,
   "metadata": {},
   "outputs": [],
   "source": [
    "importlib.reload(template_generation)\n",
    "df = template_generation.generate()\n",
    "template_question_count = df.shape[0]\n",
    "df.head()"
   ]
  },
  {
   "cell_type": "markdown",
   "metadata": {},
   "source": [
    "## update data schema based on files in ./datasets folder"
   ]
  },
  {
   "cell_type": "code",
   "execution_count": null,
   "metadata": {},
   "outputs": [],
   "source": [
    "importlib.reload(schema_generation)\n",
    "schema_generation.main()"
   ]
  },
  {
   "cell_type": "markdown",
   "metadata": {},
   "source": [
    "## Contextualize the template training data by putting in real entity names and fields if they satisfy the constraints."
   ]
  },
  {
   "cell_type": "code",
   "execution_count": null,
   "metadata": {},
   "outputs": [],
   "source": [
    "importlib.reload(template_expansion)\n",
    "with open('./datasets/schema.json') as f:\n",
    "    schema_list = json.load(f)\n",
    "    df = template_expansion.expand(df, schema_list)\n",
    "\n",
    "df.head()"
   ]
  },
  {
   "cell_type": "markdown",
   "metadata": {},
   "source": [
    "## The paraphraser will use LLM frameork to paraphrase the query_base into several options\n"
   ]
  },
  {
   "cell_type": "code",
   "execution_count": null,
   "metadata": {},
   "outputs": [],
   "source": [
    "importlib.reload(paraphraser)\n",
    "expanded_question_count = df.shape[0]\n",
    "if PERFORM_PARAPHRASING:\n",
    "    df = paraphraser.paraphrase(df, ONLY_CACHED)\n",
    "else:\n",
    "    df['query'] = df['query_base']\n",
    "    df['expertise'] = -1\n",
    "    df['formality'] = -1\n",
    "    \n",
    "paraphrased_question_count = df.shape[0]\n",
    "df.head()\n"
   ]
  },
  {
   "cell_type": "markdown",
   "metadata": {},
   "source": [
    "## Sanity Check output"
   ]
  },
  {
   "cell_type": "code",
   "execution_count": null,
   "metadata": {},
   "outputs": [],
   "source": [
    "from IPython.display import display, Markdown\n",
    "\n",
    "display(Markdown(f\"### Generated **{template_question_count:,}** templates and expanded to **{expanded_question_count:,}** questions and paraphrased to **{paraphrased_question_count:,}**.\"))"
   ]
  },
  {
   "cell_type": "markdown",
   "metadata": {},
   "source": [
    "## Export as json object"
   ]
  },
  {
   "cell_type": "code",
   "execution_count": null,
   "metadata": {},
   "outputs": [],
   "source": [
    "df.to_json('./out/training_data.json', orient='records')"
   ]
  },
  {
   "cell_type": "markdown",
   "metadata": {},
   "source": [
    "## Upload data to Huggging Face after converting data frame into format expected for fine tuning"
   ]
  },
  {
   "cell_type": "code",
   "execution_count": null,
   "metadata": {},
   "outputs": [],
   "source": [
    "importlib.reload(convert_for_finetuning)\n",
    "\n",
    "with open('./datasets/UDIGrammarSchema.json') as grammar_file:\n",
    "    grammar_schema = json.load(grammar_file)\n",
    "    convert_for_finetuning.convert(df, schema_list, grammar_schema, './out/finetuning_data.json', './out/huggingface/', push_to_hub=UPLOAD_TO_HUGGINGFACE)\n"
   ]
  },
  {
   "cell_type": "code",
   "execution_count": null,
   "metadata": {},
   "outputs": [],
   "source": []
  }
 ],
 "metadata": {
  "kernelspec": {
   "display_name": ".newvenv",
   "language": "python",
   "name": "python3"
  },
  "language_info": {
   "codemirror_mode": {
    "name": "ipython",
    "version": 3
   },
   "file_extension": ".py",
   "mimetype": "text/x-python",
   "name": "python",
   "nbconvert_exporter": "python",
   "pygments_lexer": "ipython3",
   "version": "3.12.4"
  }
 },
 "nbformat": 4,
 "nbformat_minor": 2
}

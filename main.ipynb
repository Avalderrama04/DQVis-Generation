{
 "cells": [
  {
   "cell_type": "code",
   "execution_count": 141,
   "metadata": {},
   "outputs": [],
   "source": [
    "# /// script\n",
    "# requires-python = \">=3.11\"\n",
    "# dependencies = [\n",
    "#     \"importlib\",\n",
    "#     \"pandas\",\n",
    "#     \"udi-grammar-py\",``\n",
    "# ]\n",
    "# ///"
   ]
  },
  {
   "cell_type": "markdown",
   "metadata": {},
   "source": [
    "## Imports + Top-Level Variables"
   ]
  },
  {
   "cell_type": "code",
   "execution_count": 142,
   "metadata": {},
   "outputs": [],
   "source": [
    "from udi_grammar_py import Chart, Op, rolling\n",
    "import pandas as pd\n",
    "import sys\n",
    "import template_generation\n",
    "import schema_generation\n",
    "import template_expansion\n",
    "import paraphraser\n",
    "import convert_for_finetuning\n",
    "import importlib\n",
    "import json\n",
    "sys.path.append('.')\n",
    "\n",
    "UPLOAD_TO_HUGGINGFACE = False # Set to True if you want to upload the training data to Hugging Face"
   ]
  },
  {
   "cell_type": "code",
   "execution_count": 143,
   "metadata": {},
   "outputs": [
    {
     "data": {
      "text/html": [
       "<div>\n",
       "<style scoped>\n",
       "    .dataframe tbody tr th:only-of-type {\n",
       "        vertical-align: middle;\n",
       "    }\n",
       "\n",
       "    .dataframe tbody tr th {\n",
       "        vertical-align: top;\n",
       "    }\n",
       "\n",
       "    .dataframe thead th {\n",
       "        text-align: right;\n",
       "    }\n",
       "</style>\n",
       "<table border=\"1\" class=\"dataframe\">\n",
       "  <thead>\n",
       "    <tr style=\"text-align: right;\">\n",
       "      <th></th>\n",
       "      <th>query_template</th>\n",
       "      <th>constraints</th>\n",
       "      <th>spec_template</th>\n",
       "      <th>query_type</th>\n",
       "      <th>creation_method</th>\n",
       "    </tr>\n",
       "  </thead>\n",
       "  <tbody>\n",
       "    <tr>\n",
       "      <th>0</th>\n",
       "      <td>How many &lt;E&gt; are there, grouped by &lt;F:n&gt;?</td>\n",
       "      <td>[F.c * 2 &lt; E.c, F.c &lt; 4]</td>\n",
       "      <td>{\"source\": {\"name\": \"&lt;E&gt;\", \"source\": \"&lt;E.url&gt;\"...</td>\n",
       "      <td>question</td>\n",
       "      <td>template</td>\n",
       "    </tr>\n",
       "  </tbody>\n",
       "</table>\n",
       "</div>"
      ],
      "text/plain": [
       "                              query_template               constraints  \\\n",
       "0  How many <E> are there, grouped by <F:n>?  [F.c * 2 < E.c, F.c < 4]   \n",
       "\n",
       "                                       spec_template query_type  \\\n",
       "0  {\"source\": {\"name\": \"<E>\", \"source\": \"<E.url>\"...   question   \n",
       "\n",
       "  creation_method  \n",
       "0        template  "
      ]
     },
     "execution_count": 143,
     "metadata": {},
     "output_type": "execute_result"
    }
   ],
   "source": [
    "importlib.reload(template_generation)\n",
    "df = template_generation.generate()\n",
    "template_question_count = df.shape[0]\n",
    "df.head()"
   ]
  },
  {
   "cell_type": "markdown",
   "metadata": {},
   "source": [
    "## update data schema based on files in ./datasets folder"
   ]
  },
  {
   "cell_type": "code",
   "execution_count": 144,
   "metadata": {},
   "outputs": [],
   "source": [
    "importlib.reload(schema_generation)\n",
    "schema_generation.main()"
   ]
  },
  {
   "cell_type": "markdown",
   "metadata": {},
   "source": [
    "## Contextualize the template training data by putting in real entity names and fields if they satisfy the constraints."
   ]
  },
  {
   "cell_type": "code",
   "execution_count": 145,
   "metadata": {},
   "outputs": [
    {
     "data": {
      "text/html": [
       "<div>\n",
       "<style scoped>\n",
       "    .dataframe tbody tr th:only-of-type {\n",
       "        vertical-align: middle;\n",
       "    }\n",
       "\n",
       "    .dataframe tbody tr th {\n",
       "        vertical-align: top;\n",
       "    }\n",
       "\n",
       "    .dataframe thead th {\n",
       "        text-align: right;\n",
       "    }\n",
       "</style>\n",
       "<table border=\"1\" class=\"dataframe\">\n",
       "  <thead>\n",
       "    <tr style=\"text-align: right;\">\n",
       "      <th></th>\n",
       "      <th>query_template</th>\n",
       "      <th>constraints</th>\n",
       "      <th>spec_template</th>\n",
       "      <th>query_type</th>\n",
       "      <th>creation_method</th>\n",
       "      <th>query_base</th>\n",
       "      <th>spec</th>\n",
       "      <th>solution</th>\n",
       "      <th>dataset_schema</th>\n",
       "    </tr>\n",
       "  </thead>\n",
       "  <tbody>\n",
       "    <tr>\n",
       "      <th>0</th>\n",
       "      <td>How many &lt;E&gt; are there, grouped by &lt;F:n&gt;?</td>\n",
       "      <td>[F.c * 2 &lt; E.c, F.c &lt; 4]</td>\n",
       "      <td>{\"source\": {\"name\": \"&lt;E&gt;\", \"source\": \"&lt;E.url&gt;\"...</td>\n",
       "      <td>question</td>\n",
       "      <td>template</td>\n",
       "      <td>How many donors are there, grouped by weight_u...</td>\n",
       "      <td>{\"source\": {\"name\": \"donors\", \"source\": \"./dat...</td>\n",
       "      <td>{'E': {'entity': 'donors', 'url': './data/hubm...</td>\n",
       "      <td>hubmap</td>\n",
       "    </tr>\n",
       "    <tr>\n",
       "      <th>0</th>\n",
       "      <td>How many &lt;E&gt; are there, grouped by &lt;F:n&gt;?</td>\n",
       "      <td>[F.c * 2 &lt; E.c, F.c &lt; 4]</td>\n",
       "      <td>{\"source\": {\"name\": \"&lt;E&gt;\", \"source\": \"&lt;E.url&gt;\"...</td>\n",
       "      <td>question</td>\n",
       "      <td>template</td>\n",
       "      <td>How many donors are there, grouped by sex?</td>\n",
       "      <td>{\"source\": {\"name\": \"donors\", \"source\": \"./dat...</td>\n",
       "      <td>{'E': {'entity': 'donors', 'url': './data/hubm...</td>\n",
       "      <td>hubmap</td>\n",
       "    </tr>\n",
       "    <tr>\n",
       "      <th>0</th>\n",
       "      <td>How many &lt;E&gt; are there, grouped by &lt;F:n&gt;?</td>\n",
       "      <td>[F.c * 2 &lt; E.c, F.c &lt; 4]</td>\n",
       "      <td>{\"source\": {\"name\": \"&lt;E&gt;\", \"source\": \"&lt;E.url&gt;\"...</td>\n",
       "      <td>question</td>\n",
       "      <td>template</td>\n",
       "      <td>How many donors are there, grouped by serum_cr...</td>\n",
       "      <td>{\"source\": {\"name\": \"donors\", \"source\": \"./dat...</td>\n",
       "      <td>{'E': {'entity': 'donors', 'url': './data/hubm...</td>\n",
       "      <td>hubmap</td>\n",
       "    </tr>\n",
       "    <tr>\n",
       "      <th>0</th>\n",
       "      <td>How many &lt;E&gt; are there, grouped by &lt;F:n&gt;?</td>\n",
       "      <td>[F.c * 2 &lt; E.c, F.c &lt; 4]</td>\n",
       "      <td>{\"source\": {\"name\": \"&lt;E&gt;\", \"source\": \"&lt;E.url&gt;\"...</td>\n",
       "      <td>question</td>\n",
       "      <td>template</td>\n",
       "      <td>How many donors are there, grouped by rh_blood...</td>\n",
       "      <td>{\"source\": {\"name\": \"donors\", \"source\": \"./dat...</td>\n",
       "      <td>{'E': {'entity': 'donors', 'url': './data/hubm...</td>\n",
       "      <td>hubmap</td>\n",
       "    </tr>\n",
       "    <tr>\n",
       "      <th>0</th>\n",
       "      <td>How many &lt;E&gt; are there, grouped by &lt;F:n&gt;?</td>\n",
       "      <td>[F.c * 2 &lt; E.c, F.c &lt; 4]</td>\n",
       "      <td>{\"source\": {\"name\": \"&lt;E&gt;\", \"source\": \"&lt;E.url&gt;\"...</td>\n",
       "      <td>question</td>\n",
       "      <td>template</td>\n",
       "      <td>How many donors are there, grouped by patholog...</td>\n",
       "      <td>{\"source\": {\"name\": \"donors\", \"source\": \"./dat...</td>\n",
       "      <td>{'E': {'entity': 'donors', 'url': './data/hubm...</td>\n",
       "      <td>hubmap</td>\n",
       "    </tr>\n",
       "  </tbody>\n",
       "</table>\n",
       "</div>"
      ],
      "text/plain": [
       "                              query_template               constraints  \\\n",
       "0  How many <E> are there, grouped by <F:n>?  [F.c * 2 < E.c, F.c < 4]   \n",
       "0  How many <E> are there, grouped by <F:n>?  [F.c * 2 < E.c, F.c < 4]   \n",
       "0  How many <E> are there, grouped by <F:n>?  [F.c * 2 < E.c, F.c < 4]   \n",
       "0  How many <E> are there, grouped by <F:n>?  [F.c * 2 < E.c, F.c < 4]   \n",
       "0  How many <E> are there, grouped by <F:n>?  [F.c * 2 < E.c, F.c < 4]   \n",
       "\n",
       "                                       spec_template query_type  \\\n",
       "0  {\"source\": {\"name\": \"<E>\", \"source\": \"<E.url>\"...   question   \n",
       "0  {\"source\": {\"name\": \"<E>\", \"source\": \"<E.url>\"...   question   \n",
       "0  {\"source\": {\"name\": \"<E>\", \"source\": \"<E.url>\"...   question   \n",
       "0  {\"source\": {\"name\": \"<E>\", \"source\": \"<E.url>\"...   question   \n",
       "0  {\"source\": {\"name\": \"<E>\", \"source\": \"<E.url>\"...   question   \n",
       "\n",
       "  creation_method                                         query_base  \\\n",
       "0        template  How many donors are there, grouped by weight_u...   \n",
       "0        template         How many donors are there, grouped by sex?   \n",
       "0        template  How many donors are there, grouped by serum_cr...   \n",
       "0        template  How many donors are there, grouped by rh_blood...   \n",
       "0        template  How many donors are there, grouped by patholog...   \n",
       "\n",
       "                                                spec  \\\n",
       "0  {\"source\": {\"name\": \"donors\", \"source\": \"./dat...   \n",
       "0  {\"source\": {\"name\": \"donors\", \"source\": \"./dat...   \n",
       "0  {\"source\": {\"name\": \"donors\", \"source\": \"./dat...   \n",
       "0  {\"source\": {\"name\": \"donors\", \"source\": \"./dat...   \n",
       "0  {\"source\": {\"name\": \"donors\", \"source\": \"./dat...   \n",
       "\n",
       "                                            solution dataset_schema  \n",
       "0  {'E': {'entity': 'donors', 'url': './data/hubm...         hubmap  \n",
       "0  {'E': {'entity': 'donors', 'url': './data/hubm...         hubmap  \n",
       "0  {'E': {'entity': 'donors', 'url': './data/hubm...         hubmap  \n",
       "0  {'E': {'entity': 'donors', 'url': './data/hubm...         hubmap  \n",
       "0  {'E': {'entity': 'donors', 'url': './data/hubm...         hubmap  "
      ]
     },
     "execution_count": 145,
     "metadata": {},
     "output_type": "execute_result"
    }
   ],
   "source": [
    "importlib.reload(template_expansion)\n",
    "with open('./datasets/schema.json') as f:\n",
    "    schema_list = json.load(f)\n",
    "    df = template_expansion.expand(df, schema_list)\n",
    "\n",
    "df.head()"
   ]
  },
  {
   "cell_type": "markdown",
   "metadata": {},
   "source": [
    "## The paraphraser will use LLM frameork to paraphrase the query_base into several options\n"
   ]
  },
  {
   "cell_type": "code",
   "execution_count": 146,
   "metadata": {},
   "outputs": [
    {
     "name": "stdout",
     "output_type": "stream",
     "text": [
      "Paraphrasing row 86/86 [==============================] 100.00%"
     ]
    },
    {
     "data": {
      "text/html": [
       "<div>\n",
       "<style scoped>\n",
       "    .dataframe tbody tr th:only-of-type {\n",
       "        vertical-align: middle;\n",
       "    }\n",
       "\n",
       "    .dataframe tbody tr th {\n",
       "        vertical-align: top;\n",
       "    }\n",
       "\n",
       "    .dataframe thead th {\n",
       "        text-align: right;\n",
       "    }\n",
       "</style>\n",
       "<table border=\"1\" class=\"dataframe\">\n",
       "  <thead>\n",
       "    <tr style=\"text-align: right;\">\n",
       "      <th></th>\n",
       "      <th>query</th>\n",
       "      <th>expertise</th>\n",
       "      <th>formality</th>\n",
       "      <th>query_template</th>\n",
       "      <th>constraints</th>\n",
       "      <th>spec_template</th>\n",
       "      <th>query_type</th>\n",
       "      <th>creation_method</th>\n",
       "      <th>query_base</th>\n",
       "      <th>spec</th>\n",
       "      <th>solution</th>\n",
       "      <th>dataset_schema</th>\n",
       "    </tr>\n",
       "  </thead>\n",
       "  <tbody>\n",
       "    <tr>\n",
       "      <th>0</th>\n",
       "      <td>So, how many donors do we have when we sort th...</td>\n",
       "      <td>1</td>\n",
       "      <td>1</td>\n",
       "      <td>How many &lt;E&gt; are there, grouped by &lt;F:n&gt;?</td>\n",
       "      <td>[F.c * 2 &lt; E.c, F.c &lt; 4]</td>\n",
       "      <td>{\"source\": {\"name\": \"&lt;E&gt;\", \"source\": \"&lt;E.url&gt;\"...</td>\n",
       "      <td>question</td>\n",
       "      <td>template</td>\n",
       "      <td>How many donors are there, grouped by weight_u...</td>\n",
       "      <td>{\"source\": {\"name\": \"donors\", \"source\": \"./dat...</td>\n",
       "      <td>{'E': {'entity': 'donors', 'url': './data/hubm...</td>\n",
       "      <td>hubmap</td>\n",
       "    </tr>\n",
       "    <tr>\n",
       "      <th>1</th>\n",
       "      <td>Can you tell me how many donors there are, sor...</td>\n",
       "      <td>2</td>\n",
       "      <td>1</td>\n",
       "      <td>How many &lt;E&gt; are there, grouped by &lt;F:n&gt;?</td>\n",
       "      <td>[F.c * 2 &lt; E.c, F.c &lt; 4]</td>\n",
       "      <td>{\"source\": {\"name\": \"&lt;E&gt;\", \"source\": \"&lt;E.url&gt;\"...</td>\n",
       "      <td>question</td>\n",
       "      <td>template</td>\n",
       "      <td>How many donors are there, grouped by weight_u...</td>\n",
       "      <td>{\"source\": {\"name\": \"donors\", \"source\": \"./dat...</td>\n",
       "      <td>{'E': {'entity': 'donors', 'url': './data/hubm...</td>\n",
       "      <td>hubmap</td>\n",
       "    </tr>\n",
       "    <tr>\n",
       "      <th>2</th>\n",
       "      <td>What’s the count of donors, organized by the w...</td>\n",
       "      <td>3</td>\n",
       "      <td>1</td>\n",
       "      <td>How many &lt;E&gt; are there, grouped by &lt;F:n&gt;?</td>\n",
       "      <td>[F.c * 2 &lt; E.c, F.c &lt; 4]</td>\n",
       "      <td>{\"source\": {\"name\": \"&lt;E&gt;\", \"source\": \"&lt;E.url&gt;\"...</td>\n",
       "      <td>question</td>\n",
       "      <td>template</td>\n",
       "      <td>How many donors are there, grouped by weight_u...</td>\n",
       "      <td>{\"source\": {\"name\": \"donors\", \"source\": \"./dat...</td>\n",
       "      <td>{'E': {'entity': 'donors', 'url': './data/hubm...</td>\n",
       "      <td>hubmap</td>\n",
       "    </tr>\n",
       "    <tr>\n",
       "      <th>3</th>\n",
       "      <td>Could you provide the number of donors categor...</td>\n",
       "      <td>4</td>\n",
       "      <td>1</td>\n",
       "      <td>How many &lt;E&gt; are there, grouped by &lt;F:n&gt;?</td>\n",
       "      <td>[F.c * 2 &lt; E.c, F.c &lt; 4]</td>\n",
       "      <td>{\"source\": {\"name\": \"&lt;E&gt;\", \"source\": \"&lt;E.url&gt;\"...</td>\n",
       "      <td>question</td>\n",
       "      <td>template</td>\n",
       "      <td>How many donors are there, grouped by weight_u...</td>\n",
       "      <td>{\"source\": {\"name\": \"donors\", \"source\": \"./dat...</td>\n",
       "      <td>{'E': {'entity': 'donors', 'url': './data/hubm...</td>\n",
       "      <td>hubmap</td>\n",
       "    </tr>\n",
       "    <tr>\n",
       "      <th>4</th>\n",
       "      <td>How many donors exist, classified based on the...</td>\n",
       "      <td>5</td>\n",
       "      <td>1</td>\n",
       "      <td>How many &lt;E&gt; are there, grouped by &lt;F:n&gt;?</td>\n",
       "      <td>[F.c * 2 &lt; E.c, F.c &lt; 4]</td>\n",
       "      <td>{\"source\": {\"name\": \"&lt;E&gt;\", \"source\": \"&lt;E.url&gt;\"...</td>\n",
       "      <td>question</td>\n",
       "      <td>template</td>\n",
       "      <td>How many donors are there, grouped by weight_u...</td>\n",
       "      <td>{\"source\": {\"name\": \"donors\", \"source\": \"./dat...</td>\n",
       "      <td>{'E': {'entity': 'donors', 'url': './data/hubm...</td>\n",
       "      <td>hubmap</td>\n",
       "    </tr>\n",
       "  </tbody>\n",
       "</table>\n",
       "</div>"
      ],
      "text/plain": [
       "                                               query  expertise  formality  \\\n",
       "0  So, how many donors do we have when we sort th...          1          1   \n",
       "1  Can you tell me how many donors there are, sor...          2          1   \n",
       "2  What’s the count of donors, organized by the w...          3          1   \n",
       "3  Could you provide the number of donors categor...          4          1   \n",
       "4  How many donors exist, classified based on the...          5          1   \n",
       "\n",
       "                              query_template               constraints  \\\n",
       "0  How many <E> are there, grouped by <F:n>?  [F.c * 2 < E.c, F.c < 4]   \n",
       "1  How many <E> are there, grouped by <F:n>?  [F.c * 2 < E.c, F.c < 4]   \n",
       "2  How many <E> are there, grouped by <F:n>?  [F.c * 2 < E.c, F.c < 4]   \n",
       "3  How many <E> are there, grouped by <F:n>?  [F.c * 2 < E.c, F.c < 4]   \n",
       "4  How many <E> are there, grouped by <F:n>?  [F.c * 2 < E.c, F.c < 4]   \n",
       "\n",
       "                                       spec_template query_type  \\\n",
       "0  {\"source\": {\"name\": \"<E>\", \"source\": \"<E.url>\"...   question   \n",
       "1  {\"source\": {\"name\": \"<E>\", \"source\": \"<E.url>\"...   question   \n",
       "2  {\"source\": {\"name\": \"<E>\", \"source\": \"<E.url>\"...   question   \n",
       "3  {\"source\": {\"name\": \"<E>\", \"source\": \"<E.url>\"...   question   \n",
       "4  {\"source\": {\"name\": \"<E>\", \"source\": \"<E.url>\"...   question   \n",
       "\n",
       "  creation_method                                         query_base  \\\n",
       "0        template  How many donors are there, grouped by weight_u...   \n",
       "1        template  How many donors are there, grouped by weight_u...   \n",
       "2        template  How many donors are there, grouped by weight_u...   \n",
       "3        template  How many donors are there, grouped by weight_u...   \n",
       "4        template  How many donors are there, grouped by weight_u...   \n",
       "\n",
       "                                                spec  \\\n",
       "0  {\"source\": {\"name\": \"donors\", \"source\": \"./dat...   \n",
       "1  {\"source\": {\"name\": \"donors\", \"source\": \"./dat...   \n",
       "2  {\"source\": {\"name\": \"donors\", \"source\": \"./dat...   \n",
       "3  {\"source\": {\"name\": \"donors\", \"source\": \"./dat...   \n",
       "4  {\"source\": {\"name\": \"donors\", \"source\": \"./dat...   \n",
       "\n",
       "                                            solution dataset_schema  \n",
       "0  {'E': {'entity': 'donors', 'url': './data/hubm...         hubmap  \n",
       "1  {'E': {'entity': 'donors', 'url': './data/hubm...         hubmap  \n",
       "2  {'E': {'entity': 'donors', 'url': './data/hubm...         hubmap  \n",
       "3  {'E': {'entity': 'donors', 'url': './data/hubm...         hubmap  \n",
       "4  {'E': {'entity': 'donors', 'url': './data/hubm...         hubmap  "
      ]
     },
     "execution_count": 146,
     "metadata": {},
     "output_type": "execute_result"
    }
   ],
   "source": [
    "importlib.reload(paraphraser)\n",
    "expanded_question_count = df.shape[0]\n",
    "# df = df.head(10) # TODO: TEMPORARY FOR TESTING\n",
    "df = paraphraser.paraphrase(df)\n",
    "paraphrased_question_count = df.shape[0]\n",
    "df.head()\n"
   ]
  },
  {
   "cell_type": "code",
   "execution_count": null,
   "metadata": {},
   "outputs": [],
   "source": []
  },
  {
   "cell_type": "markdown",
   "metadata": {},
   "source": [
    "## Export as json object"
   ]
  },
  {
   "cell_type": "code",
   "execution_count": 147,
   "metadata": {},
   "outputs": [],
   "source": [
    "df.to_json('./out/training_data.json', orient='records')"
   ]
  },
  {
   "cell_type": "markdown",
   "metadata": {},
   "source": [
    "## Upload data to Huggging Face after converting data frame into format expected for fine tuning"
   ]
  },
  {
   "cell_type": "code",
   "execution_count": 148,
   "metadata": {},
   "outputs": [
    {
     "name": "stderr",
     "output_type": "stream",
     "text": [
      "Saving the dataset (1/1 shards): 100%|██████████| 2149/2149 [00:00<00:00, 23114.71 examples/s]\n",
      "Saving the dataset (1/1 shards): 100%|██████████| 2149/2149 [00:00<00:00, 23480.94 examples/s]\n"
     ]
    }
   ],
   "source": [
    "importlib.reload(convert_for_finetuning)\n",
    "\n",
    "with open('./datasets/UDIGrammarSchema.json') as grammar_file:\n",
    "    grammar_schema = json.load(grammar_file)\n",
    "    convert_for_finetuning.convert(df, schema_list, grammar_schema, './out/finetuning_data.json', './out/huggingface/', push_to_hub=UPLOAD_TO_HUGGINGFACE)\n"
   ]
  },
  {
   "cell_type": "markdown",
   "metadata": {},
   "source": [
    "## Sanity Check output"
   ]
  },
  {
   "cell_type": "code",
   "execution_count": 149,
   "metadata": {},
   "outputs": [
    {
     "data": {
      "text/markdown": [
       "### Generated **1** templates and expanded to **86** questions and paraphrased to **2,149**."
      ],
      "text/plain": [
       "<IPython.core.display.Markdown object>"
      ]
     },
     "metadata": {},
     "output_type": "display_data"
    }
   ],
   "source": [
    "from IPython.display import display, Markdown\n",
    "\n",
    "display(Markdown(f\"### Generated **{template_question_count:,}** templates and expanded to **{expanded_question_count:,}** questions and paraphrased to **{paraphrased_question_count:,}**.\"))"
   ]
  },
  {
   "cell_type": "code",
   "execution_count": null,
   "metadata": {},
   "outputs": [],
   "source": []
  }
 ],
 "metadata": {
  "kernelspec": {
   "display_name": ".newvenv",
   "language": "python",
   "name": "python3"
  },
  "language_info": {
   "codemirror_mode": {
    "name": "ipython",
    "version": 3
   },
   "file_extension": ".py",
   "mimetype": "text/x-python",
   "name": "python",
   "nbconvert_exporter": "python",
   "pygments_lexer": "ipython3",
   "version": "3.12.4"
  }
 },
 "nbformat": 4,
 "nbformat_minor": 2
}
